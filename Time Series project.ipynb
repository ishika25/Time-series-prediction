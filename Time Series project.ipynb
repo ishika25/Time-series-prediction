{
 "cells": [
  {
   "cell_type": "code",
   "execution_count": 1,
   "id": "8eb058dc",
   "metadata": {},
   "outputs": [],
   "source": [
    "import warnings\n",
    "import numpy as np\n",
    "import matplotlib.pyplot as plt\n",
    "warnings.filterwarnings(\"ignore\")\n",
    "plt.style.use('fivethirtyeight')\n",
    "import pandas as pd\n",
    "import statsmodels.api as sm\n",
    "import matplotlib\n",
    "%matplotlib inline\n",
    "import seaborn as sns\n",
    "pd.options.display.max_rows=50\n",
    "pd.options.display.max_columns=10\n",
    "\n",
    "from pmdarima import auto_arima\n",
    "from sklearn.preprocessing import MinMaxScaler\n",
    "from sklearn.metrics import r2_score"
   ]
  },
  {
   "cell_type": "code",
   "execution_count": 2,
   "id": "f10e8750",
   "metadata": {},
   "outputs": [],
   "source": [
    "import matplotlib.pyplot as plt\n",
    "plt.rcParams[\"figure.figsize\"] = (15,4)\n",
    "matplotlib.rcParams['axes.labelsize'] = 14\n",
    "matplotlib.rcParams['xtick.labelsize'] = 12\n",
    "matplotlib.rcParams['ytick.labelsize'] = 12\n",
    "matplotlib.rcParams['text.color'] = 'k'"
   ]
  },
  {
   "cell_type": "code",
   "execution_count": 3,
   "id": "48e64163",
   "metadata": {},
   "outputs": [],
   "source": [
    "data=pd.read_excel(\"C:/Users/DELL/Untitled Folder 4/POCM_HISTORICAL.xlsx\")"
   ]
  },
  {
   "cell_type": "code",
   "execution_count": 4,
   "id": "7fa8da80",
   "metadata": {},
   "outputs": [],
   "source": [
    "df=data[[\"Checkout_Date\",\"Order_Quantity\"]]\n",
    "date = data[[\"Checkout_Date\",\"Order_Quantity\"]]"
   ]
  },
  {
   "cell_type": "code",
   "execution_count": 5,
   "id": "66045590",
   "metadata": {},
   "outputs": [
    {
     "name": "stdout",
     "output_type": "stream",
     "text": [
      "<class 'pandas.core.frame.DataFrame'>\n",
      "RangeIndex: 160577 entries, 0 to 160576\n",
      "Data columns (total 2 columns):\n",
      " #   Column          Non-Null Count   Dtype         \n",
      "---  ------          --------------   -----         \n",
      " 0   Checkout_Date   160577 non-null  datetime64[ns]\n",
      " 1   Order_Quantity  160577 non-null  int64         \n",
      "dtypes: datetime64[ns](1), int64(1)\n",
      "memory usage: 2.5 MB\n"
     ]
    }
   ],
   "source": [
    "# data understanding\n",
    "df.info()"
   ]
  },
  {
   "cell_type": "code",
   "execution_count": 6,
   "id": "4907b004",
   "metadata": {},
   "outputs": [
    {
     "data": {
      "text/plain": [
       "Timedelta('528 days 00:00:00')"
      ]
     },
     "execution_count": 6,
     "metadata": {},
     "output_type": "execute_result"
    }
   ],
   "source": [
    "df['Checkout_Date'].max() - df['Checkout_Date'].min()"
   ]
  },
  {
   "cell_type": "markdown",
   "id": "b39b0700",
   "metadata": {},
   "source": [
    "This is already the case in our data: The time interval is one day and the data is already in chronological order. Therefore, we do not have to do this additional data preparation step."
   ]
  },
  {
   "cell_type": "code",
   "execution_count": 7,
   "id": "5a6d15c6",
   "metadata": {},
   "outputs": [
    {
     "data": {
      "text/plain": [
       "Checkout_Date     0\n",
       "Order_Quantity    0\n",
       "dtype: int64"
      ]
     },
     "execution_count": 7,
     "metadata": {},
     "output_type": "execute_result"
    }
   ],
   "source": [
    "#Dealling with missing values if any \n",
    "df.isna().sum()"
   ]
  },
  {
   "cell_type": "markdown",
   "id": "0fb1763f",
   "metadata": {},
   "source": [
    "#### Data understanding "
   ]
  },
  {
   "cell_type": "code",
   "execution_count": 8,
   "id": "da3bb12a",
   "metadata": {},
   "outputs": [
    {
     "name": "stdout",
     "output_type": "stream",
     "text": [
      "0           Tuesday\n",
      "1           Tuesday\n",
      "2         Wednesday\n",
      "3         Wednesday\n",
      "4         Wednesday\n",
      "            ...    \n",
      "160572       Friday\n",
      "160573       Friday\n",
      "160574       Friday\n",
      "160575       Friday\n",
      "160576       Friday\n",
      "Name: DayOfWeek, Length: 160577, dtype: object\n",
      "0         December\n",
      "1         December\n",
      "2         December\n",
      "3         December\n",
      "4         December\n",
      "            ...   \n",
      "160572         May\n",
      "160573         May\n",
      "160574         May\n",
      "160575         May\n",
      "160576         May\n",
      "Name: month_name, Length: 160577, dtype: object\n"
     ]
    }
   ],
   "source": [
    "## weekly understanding\n",
    "df['DayOfWeek'] = df['Checkout_Date'].dt.day_name()\n",
    "print(df['DayOfWeek'])\n",
    "df['month_name'] = df['Checkout_Date'].dt.month_name()\n",
    "print(df['month_name'])"
   ]
  },
  {
   "cell_type": "code",
   "execution_count": 9,
   "id": "4d9111d3",
   "metadata": {},
   "outputs": [],
   "source": [
    "df.set_index('Checkout_Date',inplace=True)"
   ]
  },
  {
   "cell_type": "code",
   "execution_count": 10,
   "id": "773e5b70",
   "metadata": {
    "scrolled": true
   },
   "outputs": [
    {
     "data": {
      "text/html": [
       "<div>\n",
       "<style scoped>\n",
       "    .dataframe tbody tr th:only-of-type {\n",
       "        vertical-align: middle;\n",
       "    }\n",
       "\n",
       "    .dataframe tbody tr th {\n",
       "        vertical-align: top;\n",
       "    }\n",
       "\n",
       "    .dataframe thead th {\n",
       "        text-align: right;\n",
       "    }\n",
       "</style>\n",
       "<table border=\"1\" class=\"dataframe\">\n",
       "  <thead>\n",
       "    <tr style=\"text-align: right;\">\n",
       "      <th></th>\n",
       "      <th>Order_Quantity</th>\n",
       "      <th>DayOfWeek</th>\n",
       "      <th>month_name</th>\n",
       "    </tr>\n",
       "    <tr>\n",
       "      <th>Checkout_Date</th>\n",
       "      <th></th>\n",
       "      <th></th>\n",
       "      <th></th>\n",
       "    </tr>\n",
       "  </thead>\n",
       "  <tbody>\n",
       "    <tr>\n",
       "      <th>2018-12-04</th>\n",
       "      <td>1</td>\n",
       "      <td>Tuesday</td>\n",
       "      <td>December</td>\n",
       "    </tr>\n",
       "    <tr>\n",
       "      <th>2018-12-04</th>\n",
       "      <td>1</td>\n",
       "      <td>Tuesday</td>\n",
       "      <td>December</td>\n",
       "    </tr>\n",
       "    <tr>\n",
       "      <th>2018-12-05</th>\n",
       "      <td>5</td>\n",
       "      <td>Wednesday</td>\n",
       "      <td>December</td>\n",
       "    </tr>\n",
       "    <tr>\n",
       "      <th>2018-12-05</th>\n",
       "      <td>10</td>\n",
       "      <td>Wednesday</td>\n",
       "      <td>December</td>\n",
       "    </tr>\n",
       "    <tr>\n",
       "      <th>2018-12-05</th>\n",
       "      <td>20</td>\n",
       "      <td>Wednesday</td>\n",
       "      <td>December</td>\n",
       "    </tr>\n",
       "    <tr>\n",
       "      <th>...</th>\n",
       "      <td>...</td>\n",
       "      <td>...</td>\n",
       "      <td>...</td>\n",
       "    </tr>\n",
       "    <tr>\n",
       "      <th>2020-05-15</th>\n",
       "      <td>5</td>\n",
       "      <td>Friday</td>\n",
       "      <td>May</td>\n",
       "    </tr>\n",
       "    <tr>\n",
       "      <th>2020-05-15</th>\n",
       "      <td>20</td>\n",
       "      <td>Friday</td>\n",
       "      <td>May</td>\n",
       "    </tr>\n",
       "    <tr>\n",
       "      <th>2020-05-15</th>\n",
       "      <td>2</td>\n",
       "      <td>Friday</td>\n",
       "      <td>May</td>\n",
       "    </tr>\n",
       "    <tr>\n",
       "      <th>2020-05-15</th>\n",
       "      <td>3</td>\n",
       "      <td>Friday</td>\n",
       "      <td>May</td>\n",
       "    </tr>\n",
       "    <tr>\n",
       "      <th>2020-05-15</th>\n",
       "      <td>2</td>\n",
       "      <td>Friday</td>\n",
       "      <td>May</td>\n",
       "    </tr>\n",
       "  </tbody>\n",
       "</table>\n",
       "<p>160577 rows × 3 columns</p>\n",
       "</div>"
      ],
      "text/plain": [
       "               Order_Quantity  DayOfWeek month_name\n",
       "Checkout_Date                                      \n",
       "2018-12-04                  1    Tuesday   December\n",
       "2018-12-04                  1    Tuesday   December\n",
       "2018-12-05                  5  Wednesday   December\n",
       "2018-12-05                 10  Wednesday   December\n",
       "2018-12-05                 20  Wednesday   December\n",
       "...                       ...        ...        ...\n",
       "2020-05-15                  5     Friday        May\n",
       "2020-05-15                 20     Friday        May\n",
       "2020-05-15                  2     Friday        May\n",
       "2020-05-15                  3     Friday        May\n",
       "2020-05-15                  2     Friday        May\n",
       "\n",
       "[160577 rows x 3 columns]"
      ]
     },
     "execution_count": 10,
     "metadata": {},
     "output_type": "execute_result"
    }
   ],
   "source": [
    "df"
   ]
  },
  {
   "cell_type": "code",
   "execution_count": 11,
   "id": "5f530b69",
   "metadata": {},
   "outputs": [
    {
     "name": "stdout",
     "output_type": "stream",
     "text": [
      "<class 'pandas.core.frame.DataFrame'>\n",
      "DatetimeIndex: 160577 entries, 2018-12-04 to 2020-05-15\n",
      "Data columns (total 3 columns):\n",
      " #   Column          Non-Null Count   Dtype \n",
      "---  ------          --------------   ----- \n",
      " 0   Order_Quantity  160577 non-null  int64 \n",
      " 1   DayOfWeek       160577 non-null  object\n",
      " 2   month_name      160577 non-null  object\n",
      "dtypes: int64(1), object(2)\n",
      "memory usage: 4.9+ MB\n"
     ]
    }
   ],
   "source": [
    "df.info()"
   ]
  },
  {
   "cell_type": "code",
   "execution_count": 12,
   "id": "cc7d3249",
   "metadata": {},
   "outputs": [],
   "source": [
    "#Understanding Weekly Order Quantity mean\n",
    "weekly_df=df.resample('W').mean()"
   ]
  },
  {
   "cell_type": "code",
   "execution_count": null,
   "id": "37eb8010",
   "metadata": {},
   "outputs": [],
   "source": []
  },
  {
   "cell_type": "code",
   "execution_count": 13,
   "id": "70902ce1",
   "metadata": {},
   "outputs": [
    {
     "data": {
      "text/html": [
       "<div>\n",
       "<style scoped>\n",
       "    .dataframe tbody tr th:only-of-type {\n",
       "        vertical-align: middle;\n",
       "    }\n",
       "\n",
       "    .dataframe tbody tr th {\n",
       "        vertical-align: top;\n",
       "    }\n",
       "\n",
       "    .dataframe thead th {\n",
       "        text-align: right;\n",
       "    }\n",
       "</style>\n",
       "<table border=\"1\" class=\"dataframe\">\n",
       "  <thead>\n",
       "    <tr style=\"text-align: right;\">\n",
       "      <th></th>\n",
       "      <th>Order_Quantity</th>\n",
       "    </tr>\n",
       "    <tr>\n",
       "      <th>Checkout_Date</th>\n",
       "      <th></th>\n",
       "    </tr>\n",
       "  </thead>\n",
       "  <tbody>\n",
       "    <tr>\n",
       "      <th>2018-12-09</th>\n",
       "      <td>9.408696</td>\n",
       "    </tr>\n",
       "    <tr>\n",
       "      <th>2018-12-16</th>\n",
       "      <td>15.907692</td>\n",
       "    </tr>\n",
       "    <tr>\n",
       "      <th>2018-12-23</th>\n",
       "      <td>15.570815</td>\n",
       "    </tr>\n",
       "    <tr>\n",
       "      <th>2018-12-30</th>\n",
       "      <td>13.138614</td>\n",
       "    </tr>\n",
       "    <tr>\n",
       "      <th>2019-01-06</th>\n",
       "      <td>17.648221</td>\n",
       "    </tr>\n",
       "    <tr>\n",
       "      <th>...</th>\n",
       "      <td>...</td>\n",
       "    </tr>\n",
       "    <tr>\n",
       "      <th>2020-04-19</th>\n",
       "      <td>9.014085</td>\n",
       "    </tr>\n",
       "    <tr>\n",
       "      <th>2020-04-26</th>\n",
       "      <td>7.211180</td>\n",
       "    </tr>\n",
       "    <tr>\n",
       "      <th>2020-05-03</th>\n",
       "      <td>8.304762</td>\n",
       "    </tr>\n",
       "    <tr>\n",
       "      <th>2020-05-10</th>\n",
       "      <td>12.116564</td>\n",
       "    </tr>\n",
       "    <tr>\n",
       "      <th>2020-05-17</th>\n",
       "      <td>10.601112</td>\n",
       "    </tr>\n",
       "  </tbody>\n",
       "</table>\n",
       "<p>76 rows × 1 columns</p>\n",
       "</div>"
      ],
      "text/plain": [
       "               Order_Quantity\n",
       "Checkout_Date                \n",
       "2018-12-09           9.408696\n",
       "2018-12-16          15.907692\n",
       "2018-12-23          15.570815\n",
       "2018-12-30          13.138614\n",
       "2019-01-06          17.648221\n",
       "...                       ...\n",
       "2020-04-19           9.014085\n",
       "2020-04-26           7.211180\n",
       "2020-05-03           8.304762\n",
       "2020-05-10          12.116564\n",
       "2020-05-17          10.601112\n",
       "\n",
       "[76 rows x 1 columns]"
      ]
     },
     "execution_count": 13,
     "metadata": {},
     "output_type": "execute_result"
    }
   ],
   "source": [
    "weekly_df"
   ]
  },
  {
   "cell_type": "code",
   "execution_count": 14,
   "id": "bb8ca3a1",
   "metadata": {},
   "outputs": [
    {
     "data": {
      "text/html": [
       "<div>\n",
       "<style scoped>\n",
       "    .dataframe tbody tr th:only-of-type {\n",
       "        vertical-align: middle;\n",
       "    }\n",
       "\n",
       "    .dataframe tbody tr th {\n",
       "        vertical-align: top;\n",
       "    }\n",
       "\n",
       "    .dataframe thead th {\n",
       "        text-align: right;\n",
       "    }\n",
       "</style>\n",
       "<table border=\"1\" class=\"dataframe\">\n",
       "  <thead>\n",
       "    <tr style=\"text-align: right;\">\n",
       "      <th></th>\n",
       "      <th>Order_Quantity</th>\n",
       "      <th>DayOfWeek</th>\n",
       "      <th>month_name</th>\n",
       "    </tr>\n",
       "    <tr>\n",
       "      <th>Checkout_Date</th>\n",
       "      <th></th>\n",
       "      <th></th>\n",
       "      <th></th>\n",
       "    </tr>\n",
       "  </thead>\n",
       "  <tbody>\n",
       "    <tr>\n",
       "      <th>2019-04-03</th>\n",
       "      <td>3000</td>\n",
       "      <td>Wednesday</td>\n",
       "      <td>April</td>\n",
       "    </tr>\n",
       "    <tr>\n",
       "      <th>2019-04-03</th>\n",
       "      <td>3000</td>\n",
       "      <td>Wednesday</td>\n",
       "      <td>April</td>\n",
       "    </tr>\n",
       "    <tr>\n",
       "      <th>2019-04-03</th>\n",
       "      <td>2500</td>\n",
       "      <td>Wednesday</td>\n",
       "      <td>April</td>\n",
       "    </tr>\n",
       "    <tr>\n",
       "      <th>2019-04-03</th>\n",
       "      <td>2500</td>\n",
       "      <td>Wednesday</td>\n",
       "      <td>April</td>\n",
       "    </tr>\n",
       "    <tr>\n",
       "      <th>2019-04-03</th>\n",
       "      <td>3500</td>\n",
       "      <td>Wednesday</td>\n",
       "      <td>April</td>\n",
       "    </tr>\n",
       "    <tr>\n",
       "      <th>2019-04-03</th>\n",
       "      <td>3500</td>\n",
       "      <td>Wednesday</td>\n",
       "      <td>April</td>\n",
       "    </tr>\n",
       "    <tr>\n",
       "      <th>2019-04-03</th>\n",
       "      <td>3600</td>\n",
       "      <td>Wednesday</td>\n",
       "      <td>April</td>\n",
       "    </tr>\n",
       "    <tr>\n",
       "      <th>2019-12-06</th>\n",
       "      <td>2042</td>\n",
       "      <td>Friday</td>\n",
       "      <td>December</td>\n",
       "    </tr>\n",
       "  </tbody>\n",
       "</table>\n",
       "</div>"
      ],
      "text/plain": [
       "               Order_Quantity  DayOfWeek month_name\n",
       "Checkout_Date                                      \n",
       "2019-04-03               3000  Wednesday      April\n",
       "2019-04-03               3000  Wednesday      April\n",
       "2019-04-03               2500  Wednesday      April\n",
       "2019-04-03               2500  Wednesday      April\n",
       "2019-04-03               3500  Wednesday      April\n",
       "2019-04-03               3500  Wednesday      April\n",
       "2019-04-03               3600  Wednesday      April\n",
       "2019-12-06               2042     Friday   December"
      ]
     },
     "execution_count": 14,
     "metadata": {},
     "output_type": "execute_result"
    }
   ],
   "source": [
    "df.loc[df['Order_Quantity']>2000]"
   ]
  },
  {
   "cell_type": "code",
   "execution_count": 15,
   "id": "bfe2d802",
   "metadata": {},
   "outputs": [
    {
     "data": {
      "text/html": [
       "<div>\n",
       "<style scoped>\n",
       "    .dataframe tbody tr th:only-of-type {\n",
       "        vertical-align: middle;\n",
       "    }\n",
       "\n",
       "    .dataframe tbody tr th {\n",
       "        vertical-align: top;\n",
       "    }\n",
       "\n",
       "    .dataframe thead th {\n",
       "        text-align: right;\n",
       "    }\n",
       "</style>\n",
       "<table border=\"1\" class=\"dataframe\">\n",
       "  <thead>\n",
       "    <tr style=\"text-align: right;\">\n",
       "      <th></th>\n",
       "      <th>Order_Quantity</th>\n",
       "      <th>DayOfWeek</th>\n",
       "      <th>month_name</th>\n",
       "    </tr>\n",
       "    <tr>\n",
       "      <th>Checkout_Date</th>\n",
       "      <th></th>\n",
       "      <th></th>\n",
       "      <th></th>\n",
       "    </tr>\n",
       "  </thead>\n",
       "  <tbody>\n",
       "    <tr>\n",
       "      <th>2020-01-01</th>\n",
       "      <td>12</td>\n",
       "      <td>Wednesday</td>\n",
       "      <td>January</td>\n",
       "    </tr>\n",
       "    <tr>\n",
       "      <th>2020-01-01</th>\n",
       "      <td>3</td>\n",
       "      <td>Wednesday</td>\n",
       "      <td>January</td>\n",
       "    </tr>\n",
       "    <tr>\n",
       "      <th>2020-01-02</th>\n",
       "      <td>10</td>\n",
       "      <td>Thursday</td>\n",
       "      <td>January</td>\n",
       "    </tr>\n",
       "    <tr>\n",
       "      <th>2020-01-02</th>\n",
       "      <td>30</td>\n",
       "      <td>Thursday</td>\n",
       "      <td>January</td>\n",
       "    </tr>\n",
       "    <tr>\n",
       "      <th>2020-01-02</th>\n",
       "      <td>12</td>\n",
       "      <td>Thursday</td>\n",
       "      <td>January</td>\n",
       "    </tr>\n",
       "    <tr>\n",
       "      <th>...</th>\n",
       "      <td>...</td>\n",
       "      <td>...</td>\n",
       "      <td>...</td>\n",
       "    </tr>\n",
       "    <tr>\n",
       "      <th>2020-05-15</th>\n",
       "      <td>5</td>\n",
       "      <td>Friday</td>\n",
       "      <td>May</td>\n",
       "    </tr>\n",
       "    <tr>\n",
       "      <th>2020-05-15</th>\n",
       "      <td>20</td>\n",
       "      <td>Friday</td>\n",
       "      <td>May</td>\n",
       "    </tr>\n",
       "    <tr>\n",
       "      <th>2020-05-15</th>\n",
       "      <td>2</td>\n",
       "      <td>Friday</td>\n",
       "      <td>May</td>\n",
       "    </tr>\n",
       "    <tr>\n",
       "      <th>2020-05-15</th>\n",
       "      <td>3</td>\n",
       "      <td>Friday</td>\n",
       "      <td>May</td>\n",
       "    </tr>\n",
       "    <tr>\n",
       "      <th>2020-05-15</th>\n",
       "      <td>2</td>\n",
       "      <td>Friday</td>\n",
       "      <td>May</td>\n",
       "    </tr>\n",
       "  </tbody>\n",
       "</table>\n",
       "<p>57764 rows × 3 columns</p>\n",
       "</div>"
      ],
      "text/plain": [
       "               Order_Quantity  DayOfWeek month_name\n",
       "Checkout_Date                                      \n",
       "2020-01-01                 12  Wednesday    January\n",
       "2020-01-01                  3  Wednesday    January\n",
       "2020-01-02                 10   Thursday    January\n",
       "2020-01-02                 30   Thursday    January\n",
       "2020-01-02                 12   Thursday    January\n",
       "...                       ...        ...        ...\n",
       "2020-05-15                  5     Friday        May\n",
       "2020-05-15                 20     Friday        May\n",
       "2020-05-15                  2     Friday        May\n",
       "2020-05-15                  3     Friday        May\n",
       "2020-05-15                  2     Friday        May\n",
       "\n",
       "[57764 rows x 3 columns]"
      ]
     },
     "execution_count": 15,
     "metadata": {},
     "output_type": "execute_result"
    }
   ],
   "source": [
    "## As we want to forecast for 15 days of 2020\n",
    "df['2020']\n"
   ]
  },
  {
   "cell_type": "code",
   "execution_count": 16,
   "id": "b98961e3",
   "metadata": {},
   "outputs": [
    {
     "data": {
      "text/plain": [
       "8.701769268056228"
      ]
     },
     "execution_count": 16,
     "metadata": {},
     "output_type": "execute_result"
    }
   ],
   "source": [
    "df['2020-01':'2020-05']['Order_Quantity'].mean()"
   ]
  },
  {
   "cell_type": "code",
   "execution_count": 17,
   "id": "29727e63",
   "metadata": {},
   "outputs": [
    {
     "data": {
      "text/html": [
       "<div>\n",
       "<style scoped>\n",
       "    .dataframe tbody tr th:only-of-type {\n",
       "        vertical-align: middle;\n",
       "    }\n",
       "\n",
       "    .dataframe tbody tr th {\n",
       "        vertical-align: top;\n",
       "    }\n",
       "\n",
       "    .dataframe thead th {\n",
       "        text-align: right;\n",
       "    }\n",
       "</style>\n",
       "<table border=\"1\" class=\"dataframe\">\n",
       "  <thead>\n",
       "    <tr style=\"text-align: right;\">\n",
       "      <th></th>\n",
       "      <th>Checkout_Date</th>\n",
       "      <th>Order_Quantity</th>\n",
       "    </tr>\n",
       "  </thead>\n",
       "  <tbody>\n",
       "    <tr>\n",
       "      <th>0</th>\n",
       "      <td>2018-12-04</td>\n",
       "      <td>2</td>\n",
       "    </tr>\n",
       "    <tr>\n",
       "      <th>1</th>\n",
       "      <td>2018-12-05</td>\n",
       "      <td>79</td>\n",
       "    </tr>\n",
       "    <tr>\n",
       "      <th>2</th>\n",
       "      <td>2018-12-06</td>\n",
       "      <td>422</td>\n",
       "    </tr>\n",
       "    <tr>\n",
       "      <th>3</th>\n",
       "      <td>2018-12-07</td>\n",
       "      <td>468</td>\n",
       "    </tr>\n",
       "    <tr>\n",
       "      <th>4</th>\n",
       "      <td>2018-12-08</td>\n",
       "      <td>111</td>\n",
       "    </tr>\n",
       "  </tbody>\n",
       "</table>\n",
       "</div>"
      ],
      "text/plain": [
       "  Checkout_Date  Order_Quantity\n",
       "0    2018-12-04               2\n",
       "1    2018-12-05              79\n",
       "2    2018-12-06             422\n",
       "3    2018-12-07             468\n",
       "4    2018-12-08             111"
      ]
     },
     "execution_count": 17,
     "metadata": {},
     "output_type": "execute_result"
    }
   ],
   "source": [
    "date = date.groupby([\"Checkout_Date\"])['Order_Quantity'].sum().reset_index()\n",
    "date.head()"
   ]
  },
  {
   "cell_type": "code",
   "execution_count": 18,
   "id": "3ee0ccaa",
   "metadata": {},
   "outputs": [],
   "source": [
    "date=date[[\"Checkout_Date\"]]"
   ]
  },
  {
   "cell_type": "code",
   "execution_count": 19,
   "id": "57626b3d",
   "metadata": {},
   "outputs": [
    {
     "data": {
      "text/plain": [
       "array(['Sunday', 'Saturday', 'Tuesday', 'Thursday'], dtype=object)"
      ]
     },
     "execution_count": 19,
     "metadata": {},
     "output_type": "execute_result"
    }
   ],
   "source": [
    "dummny_dates=pd.date_range(start='2018-12-04',end='2020-05-15')\n",
    "dummny_dates=dummny_dates.to_frame(index = False)\n",
    "dummny_dates.columns=[\"Checkout_Date\"]\n",
    "x = pd.concat([date, dummny_dates])\n",
    "y = x.drop_duplicates(keep=False, inplace=False)\n",
    "y['DayOfWeek'] = y['Checkout_Date'].dt.day_name()\n",
    "y['month_name'] = y['Checkout_Date'].dt.month_name()\n",
    "holidays=y.reset_index(drop=True)\n",
    "holidays[\"DayOfWeek\"].unique()"
   ]
  },
  {
   "cell_type": "code",
   "execution_count": 20,
   "id": "d3200cab",
   "metadata": {},
   "outputs": [
    {
     "data": {
      "text/html": [
       "<div>\n",
       "<style scoped>\n",
       "    .dataframe tbody tr th:only-of-type {\n",
       "        vertical-align: middle;\n",
       "    }\n",
       "\n",
       "    .dataframe tbody tr th {\n",
       "        vertical-align: top;\n",
       "    }\n",
       "\n",
       "    .dataframe thead th {\n",
       "        text-align: right;\n",
       "    }\n",
       "</style>\n",
       "<table border=\"1\" class=\"dataframe\">\n",
       "  <thead>\n",
       "    <tr style=\"text-align: right;\">\n",
       "      <th></th>\n",
       "      <th>Checkout_Date</th>\n",
       "      <th>DayOfWeek</th>\n",
       "      <th>month_name</th>\n",
       "    </tr>\n",
       "  </thead>\n",
       "  <tbody>\n",
       "    <tr>\n",
       "      <th>0</th>\n",
       "      <td>2018-12-09</td>\n",
       "      <td>Sunday</td>\n",
       "      <td>December</td>\n",
       "    </tr>\n",
       "    <tr>\n",
       "      <th>1</th>\n",
       "      <td>2018-12-16</td>\n",
       "      <td>Sunday</td>\n",
       "      <td>December</td>\n",
       "    </tr>\n",
       "    <tr>\n",
       "      <th>2</th>\n",
       "      <td>2018-12-22</td>\n",
       "      <td>Saturday</td>\n",
       "      <td>December</td>\n",
       "    </tr>\n",
       "    <tr>\n",
       "      <th>3</th>\n",
       "      <td>2018-12-23</td>\n",
       "      <td>Sunday</td>\n",
       "      <td>December</td>\n",
       "    </tr>\n",
       "    <tr>\n",
       "      <th>4</th>\n",
       "      <td>2018-12-25</td>\n",
       "      <td>Tuesday</td>\n",
       "      <td>December</td>\n",
       "    </tr>\n",
       "    <tr>\n",
       "      <th>...</th>\n",
       "      <td>...</td>\n",
       "      <td>...</td>\n",
       "      <td>...</td>\n",
       "    </tr>\n",
       "    <tr>\n",
       "      <th>54</th>\n",
       "      <td>2020-04-25</td>\n",
       "      <td>Saturday</td>\n",
       "      <td>April</td>\n",
       "    </tr>\n",
       "    <tr>\n",
       "      <th>55</th>\n",
       "      <td>2020-05-02</td>\n",
       "      <td>Saturday</td>\n",
       "      <td>May</td>\n",
       "    </tr>\n",
       "    <tr>\n",
       "      <th>56</th>\n",
       "      <td>2020-05-03</td>\n",
       "      <td>Sunday</td>\n",
       "      <td>May</td>\n",
       "    </tr>\n",
       "    <tr>\n",
       "      <th>57</th>\n",
       "      <td>2020-05-09</td>\n",
       "      <td>Saturday</td>\n",
       "      <td>May</td>\n",
       "    </tr>\n",
       "    <tr>\n",
       "      <th>58</th>\n",
       "      <td>2020-05-10</td>\n",
       "      <td>Sunday</td>\n",
       "      <td>May</td>\n",
       "    </tr>\n",
       "  </tbody>\n",
       "</table>\n",
       "<p>59 rows × 3 columns</p>\n",
       "</div>"
      ],
      "text/plain": [
       "   Checkout_Date DayOfWeek month_name\n",
       "0     2018-12-09    Sunday   December\n",
       "1     2018-12-16    Sunday   December\n",
       "2     2018-12-22  Saturday   December\n",
       "3     2018-12-23    Sunday   December\n",
       "4     2018-12-25   Tuesday   December\n",
       "..           ...       ...        ...\n",
       "54    2020-04-25  Saturday      April\n",
       "55    2020-05-02  Saturday        May\n",
       "56    2020-05-03    Sunday        May\n",
       "57    2020-05-09  Saturday        May\n",
       "58    2020-05-10    Sunday        May\n",
       "\n",
       "[59 rows x 3 columns]"
      ]
     },
     "execution_count": 20,
     "metadata": {},
     "output_type": "execute_result"
    }
   ],
   "source": [
    "holidays"
   ]
  },
  {
   "cell_type": "code",
   "execution_count": 21,
   "id": "d1d183c0",
   "metadata": {},
   "outputs": [
    {
     "data": {
      "text/plain": [
       "<seaborn.axisgrid.FacetGrid at 0x2463abb17f0>"
      ]
     },
     "execution_count": 21,
     "metadata": {},
     "output_type": "execute_result"
    },
    {
     "data": {
      "image/png": "[encoded data removed]",
      "text/plain": [
       "<Figure size 864x432 with 1 Axes>"
      ]
     },
     "metadata": {
      "needs_background": "light"
     },
     "output_type": "display_data"
    }
   ],
   "source": [
    "sns.catplot(x = 'DayOfWeek', data = holidays, kind = 'count',height=6,aspect=2)"
   ]
  },
  {
   "cell_type": "code",
   "execution_count": 22,
   "id": "ccea93c7",
   "metadata": {},
   "outputs": [],
   "source": [
    "## on the weekends our sale sis very high as comapared to the weekdays"
   ]
  },
  {
   "cell_type": "code",
   "execution_count": 23,
   "id": "0298c368",
   "metadata": {},
   "outputs": [
    {
     "data": {
      "text/html": [
       "<div>\n",
       "<style scoped>\n",
       "    .dataframe tbody tr th:only-of-type {\n",
       "        vertical-align: middle;\n",
       "    }\n",
       "\n",
       "    .dataframe tbody tr th {\n",
       "        vertical-align: top;\n",
       "    }\n",
       "\n",
       "    .dataframe thead th {\n",
       "        text-align: right;\n",
       "    }\n",
       "</style>\n",
       "<table border=\"1\" class=\"dataframe\">\n",
       "  <thead>\n",
       "    <tr style=\"text-align: right;\">\n",
       "      <th></th>\n",
       "      <th>Order_Quantity</th>\n",
       "    </tr>\n",
       "    <tr>\n",
       "      <th>Checkout_Date</th>\n",
       "      <th></th>\n",
       "    </tr>\n",
       "  </thead>\n",
       "  <tbody>\n",
       "    <tr>\n",
       "      <th>2018-12-04</th>\n",
       "      <td>2</td>\n",
       "    </tr>\n",
       "    <tr>\n",
       "      <th>2018-12-05</th>\n",
       "      <td>79</td>\n",
       "    </tr>\n",
       "    <tr>\n",
       "      <th>2018-12-06</th>\n",
       "      <td>422</td>\n",
       "    </tr>\n",
       "    <tr>\n",
       "      <th>2018-12-07</th>\n",
       "      <td>468</td>\n",
       "    </tr>\n",
       "    <tr>\n",
       "      <th>2018-12-08</th>\n",
       "      <td>111</td>\n",
       "    </tr>\n",
       "    <tr>\n",
       "      <th>2018-12-10</th>\n",
       "      <td>914</td>\n",
       "    </tr>\n",
       "    <tr>\n",
       "      <th>2018-12-11</th>\n",
       "      <td>474</td>\n",
       "    </tr>\n",
       "  </tbody>\n",
       "</table>\n",
       "</div>"
      ],
      "text/plain": [
       "               Order_Quantity\n",
       "Checkout_Date                \n",
       "2018-12-04                  2\n",
       "2018-12-05                 79\n",
       "2018-12-06                422\n",
       "2018-12-07                468\n",
       "2018-12-08                111\n",
       "2018-12-10                914\n",
       "2018-12-11                474"
      ]
     },
     "execution_count": 23,
     "metadata": {},
     "output_type": "execute_result"
    }
   ],
   "source": [
    "#understanding the monthly weekdays count\n",
    "daily_df = df.groupby([\"Checkout_Date\"])['Order_Quantity'].sum().reset_index()\n",
    "\n",
    "daily_df.set_index(\"Checkout_Date\", inplace=True)\n",
    "daily_df.head(7)"
   ]
  },
  {
   "cell_type": "code",
   "execution_count": 24,
   "id": "8f140113",
   "metadata": {},
   "outputs": [
    {
     "data": {
      "text/plain": [
       "<seaborn.axisgrid.FacetGrid at 0x2461dc67f10>"
      ]
     },
     "execution_count": 24,
     "metadata": {},
     "output_type": "execute_result"
    },
    {
     "data": {
      "image/png": "[encoded data removed]",
      "text/plain": [
       "<Figure size 864x432 with 1 Axes>"
      ]
     },
     "metadata": {
      "needs_background": "light"
     },
     "output_type": "display_data"
    }
   ],
   "source": [
    "sns.relplot(x = 'Checkout_Date', y = 'Order_Quantity', data = daily_df, kind = 'line',height=6,aspect=2)"
   ]
  },
  {
   "cell_type": "code",
   "execution_count": 25,
   "id": "403c8692",
   "metadata": {},
   "outputs": [],
   "source": [
    "daily_df = daily_df.resample(\"D\").mean().dropna()"
   ]
  },
  {
   "cell_type": "markdown",
   "id": "48c19efd",
   "metadata": {},
   "source": [
    "### Data Preprocessing\n"
   ]
  },
  {
   "cell_type": "markdown",
   "id": "8c6ef22a",
   "metadata": {},
   "source": [
    "Some time-series models, such as such as ARIMA, assume that the underlying data is stationary. Stationarity describes that the time-series has\n",
    "\n",
    "constant mean and mean is not time-dependent\n",
    "constant variance and variance is not time-dependent\n",
    "constant covariance and covariance is not time-dependent"
   ]
  },
  {
   "cell_type": "markdown",
   "id": "2eb80bbc",
   "metadata": {},
   "source": [
    "#### 1 Augmented Dickey-Fuller (ADF)\n",
    "\n",
    "Augmented Dickey-Fuller (ADF) test is a type of statistical test called a unit root test. Unit roots are a cause for non-stationarity.\n",
    "\n",
    "Null Hypothesis (H0): Time series has a unit root. (Time series is not stationary).\n",
    "\n",
    "Alternate Hypothesis (H1): Time series has no unit root (Time series is stationary).\n",
    "\n",
    "If the null hypothesis can be rejected, we can conclude that the time series is stationary.\n",
    "\n",
    "There are two ways to rejects the null hypothesis:\n",
    "\n",
    "On the one hand, the null hypothesis can be rejected if the p-value is below a set significance level. The defaults significance level is 5%\n",
    "\n",
    "**p-value > significance level (default: 0.05)**: Fail to reject the null hypothesis (H0), the data has a unit root and is non-stationary.\n",
    "**p-value <= significance level (default: 0.05)**: Reject the null hypothesis (H0), the data does not have a unit root and is stationary.\n",
    "On the other hand, the null hypothesis can be rejects if the test statistic is less than the critical value."
   ]
  },
  {
   "cell_type": "markdown",
   "id": "47d44b30",
   "metadata": {},
   "source": [
    "**ADF statistic > critical value**: Fail to reject the null hypothesis (H0), the data has a unit root and is non-stationary.\n",
    "\n",
    "\n",
    "**ADF statistic < critical value**: Reject the null hypothesis (H0), the data does not have a unit root and is stationary."
   ]
  },
  {
   "cell_type": "code",
   "execution_count": 26,
   "id": "3a979fab",
   "metadata": {},
   "outputs": [],
   "source": [
    "### Testing For Stationarity\n",
    "\n",
    "from statsmodels.tsa.stattools import adfuller\n",
    "#Ho: It is non stationary\n",
    "#H1: It is stationary\n",
    "\n",
    "def adfuller_test(Order_Quantity):\n",
    "    result=adfuller(Order_Quantity)\n",
    "    labels = ['ADF Test Statistic','p-value','#Lags Used','Number of Observations Used']\n",
    "    for value,label in zip(result,labels):\n",
    "        print(label+' : '+str(value) )\n",
    "    if result[1] <= 0.05:\n",
    "        print(\"strong evidence against the null hypothesis(Ho), reject the null hypothesis. Data has no unit root and is stationary\")\n",
    "    else:\n",
    "        print(\"weak evidence against null hypothesis, time series has a unit root, indicating it is non-stationary\")"
   ]
  },
  {
   "cell_type": "code",
   "execution_count": 27,
   "id": "f9b76b55",
   "metadata": {},
   "outputs": [
    {
     "name": "stdout",
     "output_type": "stream",
     "text": [
      "ADF Test Statistic : -10.14719787490447\n",
      "p-value : 8.127120756465465e-18\n",
      "#Lags Used : 2\n",
      "Number of Observations Used : 467\n",
      "strong evidence against the null hypothesis(Ho), reject the null hypothesis. Data has no unit root and is stationary\n"
     ]
    }
   ],
   "source": [
    "adfuller_test(daily_df['Order_Quantity'])"
   ]
  },
  {
   "cell_type": "code",
   "execution_count": 28,
   "id": "bf44ebb4",
   "metadata": {},
   "outputs": [
    {
     "data": {
      "image/png": "[encoded data removed]",
      "text/plain": [
       "<Figure size 1080x288 with 4 Axes>"
      ]
     },
     "metadata": {
      "needs_background": "light"
     },
     "output_type": "display_data"
    }
   ],
   "source": [
    "# understanding of the sesonality , trend , residual\n",
    "\n",
    "from statsmodels.tsa.seasonal import seasonal_decompose\n",
    "final = seasonal_decompose(daily_df['Order_Quantity'],model='additive', freq = 52) # annual=1,Quaterly=4,monthly=12,weekly=52\n",
    "final.plot();"
   ]
  },
  {
   "cell_type": "code",
   "execution_count": null,
   "id": "ae116380",
   "metadata": {},
   "outputs": [],
   "source": [
    "\n"
   ]
  },
  {
   "cell_type": "code",
   "execution_count": null,
   "id": "b036ca3d",
   "metadata": {},
   "outputs": [],
   "source": []
  },
  {
   "cell_type": "code",
   "execution_count": null,
   "id": "eac0f082",
   "metadata": {},
   "outputs": [],
   "source": []
  },
  {
   "cell_type": "markdown",
   "id": "224f6f1f",
   "metadata": {},
   "source": [
    "### Transforming the data "
   ]
  },
  {
   "cell_type": "code",
   "execution_count": 29,
   "id": "b631de3c",
   "metadata": {},
   "outputs": [
    {
     "name": "stdout",
     "output_type": "stream",
     "text": [
      "Performing stepwise search to minimize aic\n",
      " ARIMA(2,0,2)(0,0,0)[0] intercept   : AIC=2072.289, Time=1.25 sec\n",
      " ARIMA(0,0,0)(0,0,0)[0] intercept   : AIC=2106.994, Time=0.02 sec\n",
      " ARIMA(1,0,0)(0,0,0)[0] intercept   : AIC=2084.961, Time=0.20 sec\n",
      " ARIMA(0,0,1)(0,0,0)[0] intercept   : AIC=2074.259, Time=0.15 sec\n",
      " ARIMA(0,0,0)(0,0,0)[0]             : AIC=3116.019, Time=0.02 sec\n",
      " ARIMA(1,0,2)(0,0,0)[0] intercept   : AIC=2071.084, Time=0.62 sec\n",
      " ARIMA(0,0,2)(0,0,0)[0] intercept   : AIC=2071.032, Time=0.16 sec\n",
      " ARIMA(0,0,3)(0,0,0)[0] intercept   : AIC=2069.935, Time=0.23 sec\n",
      " ARIMA(1,0,3)(0,0,0)[0] intercept   : AIC=2069.819, Time=1.12 sec\n",
      " ARIMA(2,0,3)(0,0,0)[0] intercept   : AIC=2038.630, Time=0.97 sec\n",
      " ARIMA(3,0,3)(0,0,0)[0] intercept   : AIC=2036.559, Time=1.55 sec\n",
      " ARIMA(3,0,2)(0,0,0)[0] intercept   : AIC=2074.189, Time=0.56 sec\n",
      " ARIMA(4,0,3)(0,0,0)[0] intercept   : AIC=2028.168, Time=1.56 sec\n",
      " ARIMA(4,0,2)(0,0,0)[0] intercept   : AIC=2032.911, Time=1.52 sec\n",
      " ARIMA(5,0,3)(0,0,0)[0] intercept   : AIC=1999.551, Time=2.19 sec\n",
      " ARIMA(5,0,2)(0,0,0)[0] intercept   : AIC=2010.812, Time=1.45 sec\n",
      " ARIMA(5,0,4)(0,0,0)[0] intercept   : AIC=1999.815, Time=1.67 sec\n",
      " ARIMA(4,0,4)(0,0,0)[0] intercept   : AIC=2025.805, Time=1.56 sec\n",
      " ARIMA(5,0,3)(0,0,0)[0]             : AIC=inf, Time=1.40 sec\n",
      "\n",
      "Best model:  ARIMA(5,0,3)(0,0,0)[0] intercept\n",
      "Total fit time: 18.308 seconds\n"
     ]
    },
    {
     "data": {
      "text/html": [
       "<table class=\"simpletable\">\n",
       "<caption>SARIMAX Results</caption>\n",
       "<tr>\n",
       "  <th>Dep. Variable:</th>           <td>y</td>        <th>  No. Observations:  </th>    <td>470</td>  \n",
       "</tr>\n",
       "<tr>\n",
       "  <th>Model:</th>           <td>SARIMAX(5, 0, 3)</td> <th>  Log Likelihood     </th> <td>-989.776</td>\n",
       "</tr>\n",
       "<tr>\n",
       "  <th>Date:</th>            <td>Tue, 15 Feb 2022</td> <th>  AIC                </th> <td>1999.551</td>\n",
       "</tr>\n",
       "<tr>\n",
       "  <th>Time:</th>                <td>11:46:35</td>     <th>  BIC                </th> <td>2041.078</td>\n",
       "</tr>\n",
       "<tr>\n",
       "  <th>Sample:</th>                  <td>0</td>        <th>  HQIC               </th> <td>2015.889</td>\n",
       "</tr>\n",
       "<tr>\n",
       "  <th></th>                      <td> - 470</td>      <th>                     </th>     <td> </td>   \n",
       "</tr>\n",
       "<tr>\n",
       "  <th>Covariance Type:</th>        <td>opg</td>       <th>                     </th>     <td> </td>   \n",
       "</tr>\n",
       "</table>\n",
       "<table class=\"simpletable\">\n",
       "<tr>\n",
       "      <td></td>         <th>coef</th>     <th>std err</th>      <th>z</th>      <th>P>|z|</th>  <th>[0.025</th>    <th>0.975]</th>  \n",
       "</tr>\n",
       "<tr>\n",
       "  <th>intercept</th> <td>    1.8227</td> <td>    0.711</td> <td>    2.563</td> <td> 0.010</td> <td>    0.429</td> <td>    3.217</td>\n",
       "</tr>\n",
       "<tr>\n",
       "  <th>ar.L1</th>     <td>    1.5053</td> <td>    0.128</td> <td>   11.739</td> <td> 0.000</td> <td>    1.254</td> <td>    1.757</td>\n",
       "</tr>\n",
       "<tr>\n",
       "  <th>ar.L2</th>     <td>   -1.5592</td> <td>    0.157</td> <td>   -9.940</td> <td> 0.000</td> <td>   -1.867</td> <td>   -1.252</td>\n",
       "</tr>\n",
       "<tr>\n",
       "  <th>ar.L3</th>     <td>    0.9506</td> <td>    0.153</td> <td>    6.206</td> <td> 0.000</td> <td>    0.650</td> <td>    1.251</td>\n",
       "</tr>\n",
       "<tr>\n",
       "  <th>ar.L4</th>     <td>   -0.5246</td> <td>    0.087</td> <td>   -6.007</td> <td> 0.000</td> <td>   -0.696</td> <td>   -0.353</td>\n",
       "</tr>\n",
       "<tr>\n",
       "  <th>ar.L5</th>     <td>    0.3348</td> <td>    0.045</td> <td>    7.481</td> <td> 0.000</td> <td>    0.247</td> <td>    0.422</td>\n",
       "</tr>\n",
       "<tr>\n",
       "  <th>ma.L1</th>     <td>   -1.3212</td> <td>    0.137</td> <td>   -9.667</td> <td> 0.000</td> <td>   -1.589</td> <td>   -1.053</td>\n",
       "</tr>\n",
       "<tr>\n",
       "  <th>ma.L2</th>     <td>    1.1755</td> <td>    0.144</td> <td>    8.185</td> <td> 0.000</td> <td>    0.894</td> <td>    1.457</td>\n",
       "</tr>\n",
       "<tr>\n",
       "  <th>ma.L3</th>     <td>   -0.4200</td> <td>    0.124</td> <td>   -3.394</td> <td> 0.001</td> <td>   -0.663</td> <td>   -0.177</td>\n",
       "</tr>\n",
       "<tr>\n",
       "  <th>sigma2</th>    <td>    3.9867</td> <td>    0.237</td> <td>   16.849</td> <td> 0.000</td> <td>    3.523</td> <td>    4.450</td>\n",
       "</tr>\n",
       "</table>\n",
       "<table class=\"simpletable\">\n",
       "<tr>\n",
       "  <th>Ljung-Box (L1) (Q):</th>     <td>0.00</td> <th>  Jarque-Bera (JB):  </th> <td>29.43</td>\n",
       "</tr>\n",
       "<tr>\n",
       "  <th>Prob(Q):</th>                <td>1.00</td> <th>  Prob(JB):          </th> <td>0.00</td> \n",
       "</tr>\n",
       "<tr>\n",
       "  <th>Heteroskedasticity (H):</th> <td>1.68</td> <th>  Skew:              </th> <td>-0.45</td>\n",
       "</tr>\n",
       "<tr>\n",
       "  <th>Prob(H) (two-sided):</th>    <td>0.00</td> <th>  Kurtosis:          </th> <td>3.83</td> \n",
       "</tr>\n",
       "</table><br/><br/>Warnings:<br/>[1] Covariance matrix calculated using the outer product of gradients (complex-step)."
      ],
      "text/plain": [
       "<class 'statsmodels.iolib.summary.Summary'>\n",
       "\"\"\"\n",
       "                               SARIMAX Results                                \n",
       "==============================================================================\n",
       "Dep. Variable:                      y   No. Observations:                  470\n",
       "Model:               SARIMAX(5, 0, 3)   Log Likelihood                -989.776\n",
       "Date:                Tue, 15 Feb 2022   AIC                           1999.551\n",
       "Time:                        11:46:35   BIC                           2041.078\n",
       "Sample:                             0   HQIC                          2015.889\n",
       "                                - 470                                         \n",
       "Covariance Type:                  opg                                         \n",
       "==============================================================================\n",
       "                 coef    std err          z      P>|z|      [0.025      0.975]\n",
       "------------------------------------------------------------------------------\n",
       "intercept      1.8227      0.711      2.563      0.010       0.429       3.217\n",
       "ar.L1          1.5053      0.128     11.739      0.000       1.254       1.757\n",
       "ar.L2         -1.5592      0.157     -9.940      0.000      -1.867      -1.252\n",
       "ar.L3          0.9506      0.153      6.206      0.000       0.650       1.251\n",
       "ar.L4         -0.5246      0.087     -6.007      0.000      -0.696      -0.353\n",
       "ar.L5          0.3348      0.045      7.481      0.000       0.247       0.422\n",
       "ma.L1         -1.3212      0.137     -9.667      0.000      -1.589      -1.053\n",
       "ma.L2          1.1755      0.144      8.185      0.000       0.894       1.457\n",
       "ma.L3         -0.4200      0.124     -3.394      0.001      -0.663      -0.177\n",
       "sigma2         3.9867      0.237     16.849      0.000       3.523       4.450\n",
       "===================================================================================\n",
       "Ljung-Box (L1) (Q):                   0.00   Jarque-Bera (JB):                29.43\n",
       "Prob(Q):                              1.00   Prob(JB):                         0.00\n",
       "Heteroskedasticity (H):               1.68   Skew:                            -0.45\n",
       "Prob(H) (two-sided):                  0.00   Kurtosis:                         3.83\n",
       "===================================================================================\n",
       "\n",
       "Warnings:\n",
       "[1] Covariance matrix calculated using the outer product of gradients (complex-step).\n",
       "\"\"\""
      ]
     },
     "execution_count": 29,
     "metadata": {},
     "output_type": "execute_result"
    }
   ],
   "source": [
    "# modeling \n",
    "from pmdarima import auto_arima\n",
    "step_wise = auto_arima(np.log(daily_df[\"Order_Quantity\"]), trace=True, suppress_warnings=True)\n",
    "step_wise.summary()"
   ]
  },
  {
   "cell_type": "code",
   "execution_count": 30,
   "id": "d9ae1227",
   "metadata": {},
   "outputs": [
    {
     "data": {
      "image/png": "[encoded data removed]",
      "text/plain": [
       "<Figure size 1152x576 with 4 Axes>"
      ]
     },
     "metadata": {
      "needs_background": "light"
     },
     "output_type": "display_data"
    }
   ],
   "source": [
    "step_wise.plot_diagnostics(figsize=(16,8))\n",
    "plt.show()"
   ]
  },
  {
   "cell_type": "markdown",
   "id": "c647a094",
   "metadata": {},
   "source": [
    "###### So how to interpret the plot diagnostics?\n",
    "\n",
    "1. Top left: The residual errors seem to fluctuate around a mean of zero and have a uniform variance between (-3, 3).\n",
    "\n",
    "2. Top Right: The density plot suggest normal distribution with mean zero.\n",
    "\n",
    "3. Bottom left: The most part of the blue dots are over the red line, so it seems that the distribution in very low skewed (not skewed for me).\n",
    "\n",
    "4. Bottom Right: The Correlogram, aka, ACF plot shows the residual errors are not autocorrelated."
   ]
  },
  {
   "cell_type": "code",
   "execution_count": null,
   "id": "7b0ac984",
   "metadata": {},
   "outputs": [],
   "source": []
  },
  {
   "cell_type": "code",
   "execution_count": null,
   "id": "2a7b6e07",
   "metadata": {},
   "outputs": [],
   "source": []
  },
  {
   "cell_type": "code",
   "execution_count": null,
   "id": "b2c0d2f5",
   "metadata": {},
   "outputs": [],
   "source": []
  },
  {
   "cell_type": "code",
   "execution_count": 31,
   "id": "c029388d",
   "metadata": {},
   "outputs": [
    {
     "data": {
      "text/html": [
       "<div>\n",
       "<style scoped>\n",
       "    .dataframe tbody tr th:only-of-type {\n",
       "        vertical-align: middle;\n",
       "    }\n",
       "\n",
       "    .dataframe tbody tr th {\n",
       "        vertical-align: top;\n",
       "    }\n",
       "\n",
       "    .dataframe thead th {\n",
       "        text-align: right;\n",
       "    }\n",
       "</style>\n",
       "<table border=\"1\" class=\"dataframe\">\n",
       "  <thead>\n",
       "    <tr style=\"text-align: right;\">\n",
       "      <th></th>\n",
       "      <th>Order_Quantity</th>\n",
       "    </tr>\n",
       "    <tr>\n",
       "      <th>Checkout_Date</th>\n",
       "      <th></th>\n",
       "    </tr>\n",
       "  </thead>\n",
       "  <tbody>\n",
       "    <tr>\n",
       "      <th>2020-05-01</th>\n",
       "      <td>7.315218</td>\n",
       "    </tr>\n",
       "    <tr>\n",
       "      <th>2020-05-04</th>\n",
       "      <td>6.519147</td>\n",
       "    </tr>\n",
       "    <tr>\n",
       "      <th>2020-05-05</th>\n",
       "      <td>6.777647</td>\n",
       "    </tr>\n",
       "    <tr>\n",
       "      <th>2020-05-06</th>\n",
       "      <td>6.820016</td>\n",
       "    </tr>\n",
       "    <tr>\n",
       "      <th>2020-05-07</th>\n",
       "      <td>6.716595</td>\n",
       "    </tr>\n",
       "    <tr>\n",
       "      <th>2020-05-08</th>\n",
       "      <td>6.480045</td>\n",
       "    </tr>\n",
       "    <tr>\n",
       "      <th>2020-05-11</th>\n",
       "      <td>7.918992</td>\n",
       "    </tr>\n",
       "    <tr>\n",
       "      <th>2020-05-12</th>\n",
       "      <td>8.121480</td>\n",
       "    </tr>\n",
       "    <tr>\n",
       "      <th>2020-05-13</th>\n",
       "      <td>7.307202</td>\n",
       "    </tr>\n",
       "    <tr>\n",
       "      <th>2020-05-14</th>\n",
       "      <td>8.799511</td>\n",
       "    </tr>\n",
       "    <tr>\n",
       "      <th>2020-05-15</th>\n",
       "      <td>6.925595</td>\n",
       "    </tr>\n",
       "  </tbody>\n",
       "</table>\n",
       "</div>"
      ],
      "text/plain": [
       "               Order_Quantity\n",
       "Checkout_Date                \n",
       "2020-05-01           7.315218\n",
       "2020-05-04           6.519147\n",
       "2020-05-05           6.777647\n",
       "2020-05-06           6.820016\n",
       "2020-05-07           6.716595\n",
       "2020-05-08           6.480045\n",
       "2020-05-11           7.918992\n",
       "2020-05-12           8.121480\n",
       "2020-05-13           7.307202\n",
       "2020-05-14           8.799511\n",
       "2020-05-15           6.925595"
      ]
     },
     "execution_count": 31,
     "metadata": {},
     "output_type": "execute_result"
    }
   ],
   "source": [
    "# Log Transform of absolute values\n",
    "# (Log transoform of negative values will return NaN)\n",
    "train = np.log(daily_df[:\"2020-05-01\"])\n",
    "test = np.log(daily_df[\"2020-05-01\":])\n",
    "test"
   ]
  },
  {
   "cell_type": "code",
   "execution_count": null,
   "id": "bea140bd",
   "metadata": {},
   "outputs": [],
   "source": []
  },
  {
   "cell_type": "code",
   "execution_count": null,
   "id": "793bb4f0",
   "metadata": {},
   "outputs": [],
   "source": [
    "\n"
   ]
  },
  {
   "cell_type": "code",
   "execution_count": 32,
   "id": "4cc0d970",
   "metadata": {},
   "outputs": [
    {
     "data": {
      "image/png": "[encoded data removed]",
      "text/plain": [
       "<Figure size 1872x1296 with 2 Axes>"
      ]
     },
     "metadata": {
      "needs_background": "light"
     },
     "output_type": "display_data"
    }
   ],
   "source": [
    "from statsmodels.graphics.tsaplots import plot_acf\n",
    "from statsmodels.graphics.tsaplots import plot_pacf\n",
    "\n",
    "f, ax = plt.subplots(nrows=2, ncols=1, figsize=(26, 18))\n",
    "\n",
    "plot_acf(daily_df['Order_Quantity'], lags=50, ax=ax[0])\n",
    "plot_pacf(daily_df['Order_Quantity'], lags=50, ax=ax[1])\n",
    "\n",
    "plt.show()"
   ]
  },
  {
   "cell_type": "markdown",
   "id": "e220b567",
   "metadata": {},
   "source": [
    "##### Time series can be either univariate or multivariate:\n",
    "\n",
    "Univariate time series only has a single time-dependent variable.\n",
    "Here we are dealing with univarient"
   ]
  },
  {
   "cell_type": "code",
   "execution_count": 33,
   "id": "a6f17a72",
   "metadata": {},
   "outputs": [
    {
     "data": {
      "text/plain": [
       "(460, 1)"
      ]
     },
     "execution_count": 33,
     "metadata": {},
     "output_type": "execute_result"
    }
   ],
   "source": [
    "train.shape"
   ]
  },
  {
   "cell_type": "code",
   "execution_count": 34,
   "id": "bd47a60c",
   "metadata": {},
   "outputs": [
    {
     "data": {
      "text/plain": [
       "(11, 1)"
      ]
     },
     "execution_count": 34,
     "metadata": {},
     "output_type": "execute_result"
    }
   ],
   "source": [
    "test.shape"
   ]
  },
  {
   "cell_type": "code",
   "execution_count": 35,
   "id": "aa2ce03e",
   "metadata": {},
   "outputs": [
    {
     "data": {
      "text/html": [
       "<div>\n",
       "<style scoped>\n",
       "    .dataframe tbody tr th:only-of-type {\n",
       "        vertical-align: middle;\n",
       "    }\n",
       "\n",
       "    .dataframe tbody tr th {\n",
       "        vertical-align: top;\n",
       "    }\n",
       "\n",
       "    .dataframe thead th {\n",
       "        text-align: right;\n",
       "    }\n",
       "</style>\n",
       "<table border=\"1\" class=\"dataframe\">\n",
       "  <thead>\n",
       "    <tr style=\"text-align: right;\">\n",
       "      <th></th>\n",
       "      <th>Order_Quantity</th>\n",
       "    </tr>\n",
       "    <tr>\n",
       "      <th>Checkout_Date</th>\n",
       "      <th></th>\n",
       "    </tr>\n",
       "  </thead>\n",
       "  <tbody>\n",
       "    <tr>\n",
       "      <th>2020-05-01</th>\n",
       "      <td>7.315218</td>\n",
       "    </tr>\n",
       "    <tr>\n",
       "      <th>2020-05-04</th>\n",
       "      <td>6.519147</td>\n",
       "    </tr>\n",
       "    <tr>\n",
       "      <th>2020-05-05</th>\n",
       "      <td>6.777647</td>\n",
       "    </tr>\n",
       "    <tr>\n",
       "      <th>2020-05-06</th>\n",
       "      <td>6.820016</td>\n",
       "    </tr>\n",
       "    <tr>\n",
       "      <th>2020-05-07</th>\n",
       "      <td>6.716595</td>\n",
       "    </tr>\n",
       "    <tr>\n",
       "      <th>2020-05-08</th>\n",
       "      <td>6.480045</td>\n",
       "    </tr>\n",
       "    <tr>\n",
       "      <th>2020-05-11</th>\n",
       "      <td>7.918992</td>\n",
       "    </tr>\n",
       "    <tr>\n",
       "      <th>2020-05-12</th>\n",
       "      <td>8.121480</td>\n",
       "    </tr>\n",
       "    <tr>\n",
       "      <th>2020-05-13</th>\n",
       "      <td>7.307202</td>\n",
       "    </tr>\n",
       "    <tr>\n",
       "      <th>2020-05-14</th>\n",
       "      <td>8.799511</td>\n",
       "    </tr>\n",
       "    <tr>\n",
       "      <th>2020-05-15</th>\n",
       "      <td>6.925595</td>\n",
       "    </tr>\n",
       "  </tbody>\n",
       "</table>\n",
       "</div>"
      ],
      "text/plain": [
       "               Order_Quantity\n",
       "Checkout_Date                \n",
       "2020-05-01           7.315218\n",
       "2020-05-04           6.519147\n",
       "2020-05-05           6.777647\n",
       "2020-05-06           6.820016\n",
       "2020-05-07           6.716595\n",
       "2020-05-08           6.480045\n",
       "2020-05-11           7.918992\n",
       "2020-05-12           8.121480\n",
       "2020-05-13           7.307202\n",
       "2020-05-14           8.799511\n",
       "2020-05-15           6.925595"
      ]
     },
     "execution_count": 35,
     "metadata": {},
     "output_type": "execute_result"
    }
   ],
   "source": [
    "test"
   ]
  },
  {
   "cell_type": "markdown",
   "id": "d3af1ef0",
   "metadata": {},
   "source": [
    "As we saw in the previous Steps, AutoARIMA (auto_arima) validates that (5,0,3) is the best configuration for (p,d,q)."
   ]
  },
  {
   "cell_type": "code",
   "execution_count": 36,
   "id": "9d5a416e",
   "metadata": {},
   "outputs": [
    {
     "name": "stderr",
     "output_type": "stream",
     "text": [
      "C:\\Users\\DELL\\anaconda3\\lib\\site-packages\\statsmodels\\tsa\\base\\tsa_model.py:581: ValueWarning: A date index has been provided, but it has no associated frequency information and so will be ignored when e.g. forecasting.\n",
      "  warnings.warn('A date index has been provided, but it has no'\n",
      "C:\\Users\\DELL\\anaconda3\\lib\\site-packages\\statsmodels\\tsa\\base\\tsa_model.py:581: ValueWarning: A date index has been provided, but it has no associated frequency information and so will be ignored when e.g. forecasting.\n",
      "  warnings.warn('A date index has been provided, but it has no'\n",
      "C:\\Users\\DELL\\anaconda3\\lib\\site-packages\\statsmodels\\tsa\\base\\tsa_model.py:581: ValueWarning: A date index has been provided, but it has no associated frequency information and so will be ignored when e.g. forecasting.\n",
      "  warnings.warn('A date index has been provided, but it has no'\n"
     ]
    },
    {
     "data": {
      "text/html": [
       "<table class=\"simpletable\">\n",
       "<caption>SARIMAX Results</caption>\n",
       "<tr>\n",
       "  <th>Dep. Variable:</th>    <td>Order_Quantity</td>  <th>  No. Observations:  </th>    <td>460</td>  \n",
       "</tr>\n",
       "<tr>\n",
       "  <th>Model:</th>            <td>ARIMA(5, 0, 3)</td>  <th>  Log Likelihood     </th> <td>-970.832</td>\n",
       "</tr>\n",
       "<tr>\n",
       "  <th>Date:</th>            <td>Tue, 15 Feb 2022</td> <th>  AIC                </th> <td>1961.665</td>\n",
       "</tr>\n",
       "<tr>\n",
       "  <th>Time:</th>                <td>11:46:38</td>     <th>  BIC                </th> <td>2002.977</td>\n",
       "</tr>\n",
       "<tr>\n",
       "  <th>Sample:</th>                  <td>0</td>        <th>  HQIC               </th> <td>1977.933</td>\n",
       "</tr>\n",
       "<tr>\n",
       "  <th></th>                      <td> - 460</td>      <th>                     </th>     <td> </td>   \n",
       "</tr>\n",
       "<tr>\n",
       "  <th>Covariance Type:</th>        <td>opg</td>       <th>                     </th>     <td> </td>   \n",
       "</tr>\n",
       "</table>\n",
       "<table class=\"simpletable\">\n",
       "<tr>\n",
       "     <td></td>       <th>coef</th>     <th>std err</th>      <th>z</th>      <th>P>|z|</th>  <th>[0.025</th>    <th>0.975]</th>  \n",
       "</tr>\n",
       "<tr>\n",
       "  <th>const</th>  <td>    6.2017</td> <td>    0.176</td> <td>   35.157</td> <td> 0.000</td> <td>    5.856</td> <td>    6.547</td>\n",
       "</tr>\n",
       "<tr>\n",
       "  <th>ar.L1</th>  <td>    1.5277</td> <td>    0.114</td> <td>   13.400</td> <td> 0.000</td> <td>    1.304</td> <td>    1.751</td>\n",
       "</tr>\n",
       "<tr>\n",
       "  <th>ar.L2</th>  <td>   -1.5716</td> <td>    0.148</td> <td>  -10.620</td> <td> 0.000</td> <td>   -1.862</td> <td>   -1.282</td>\n",
       "</tr>\n",
       "<tr>\n",
       "  <th>ar.L3</th>  <td>    0.9940</td> <td>    0.143</td> <td>    6.962</td> <td> 0.000</td> <td>    0.714</td> <td>    1.274</td>\n",
       "</tr>\n",
       "<tr>\n",
       "  <th>ar.L4</th>  <td>   -0.5559</td> <td>    0.087</td> <td>   -6.359</td> <td> 0.000</td> <td>   -0.727</td> <td>   -0.385</td>\n",
       "</tr>\n",
       "<tr>\n",
       "  <th>ar.L5</th>  <td>    0.3601</td> <td>    0.045</td> <td>    8.017</td> <td> 0.000</td> <td>    0.272</td> <td>    0.448</td>\n",
       "</tr>\n",
       "<tr>\n",
       "  <th>ma.L1</th>  <td>   -1.3358</td> <td>    0.122</td> <td>  -10.910</td> <td> 0.000</td> <td>   -1.576</td> <td>   -1.096</td>\n",
       "</tr>\n",
       "<tr>\n",
       "  <th>ma.L2</th>  <td>    1.1687</td> <td>    0.137</td> <td>    8.534</td> <td> 0.000</td> <td>    0.900</td> <td>    1.437</td>\n",
       "</tr>\n",
       "<tr>\n",
       "  <th>ma.L3</th>  <td>   -0.4304</td> <td>    0.112</td> <td>   -3.860</td> <td> 0.000</td> <td>   -0.649</td> <td>   -0.212</td>\n",
       "</tr>\n",
       "<tr>\n",
       "  <th>sigma2</th> <td>    3.9753</td> <td>    0.236</td> <td>   16.854</td> <td> 0.000</td> <td>    3.513</td> <td>    4.438</td>\n",
       "</tr>\n",
       "</table>\n",
       "<table class=\"simpletable\">\n",
       "<tr>\n",
       "  <th>Ljung-Box (L1) (Q):</th>     <td>0.13</td> <th>  Jarque-Bera (JB):  </th> <td>28.32</td>\n",
       "</tr>\n",
       "<tr>\n",
       "  <th>Prob(Q):</th>                <td>0.72</td> <th>  Prob(JB):          </th> <td>0.00</td> \n",
       "</tr>\n",
       "<tr>\n",
       "  <th>Heteroskedasticity (H):</th> <td>1.72</td> <th>  Skew:              </th> <td>-0.43</td>\n",
       "</tr>\n",
       "<tr>\n",
       "  <th>Prob(H) (two-sided):</th>    <td>0.00</td> <th>  Kurtosis:          </th> <td>3.86</td> \n",
       "</tr>\n",
       "</table><br/><br/>Warnings:<br/>[1] Covariance matrix calculated using the outer product of gradients (complex-step)."
      ],
      "text/plain": [
       "<class 'statsmodels.iolib.summary.Summary'>\n",
       "\"\"\"\n",
       "                               SARIMAX Results                                \n",
       "==============================================================================\n",
       "Dep. Variable:         Order_Quantity   No. Observations:                  460\n",
       "Model:                 ARIMA(5, 0, 3)   Log Likelihood                -970.832\n",
       "Date:                Tue, 15 Feb 2022   AIC                           1961.665\n",
       "Time:                        11:46:38   BIC                           2002.977\n",
       "Sample:                             0   HQIC                          1977.933\n",
       "                                - 460                                         \n",
       "Covariance Type:                  opg                                         \n",
       "==============================================================================\n",
       "                 coef    std err          z      P>|z|      [0.025      0.975]\n",
       "------------------------------------------------------------------------------\n",
       "const          6.2017      0.176     35.157      0.000       5.856       6.547\n",
       "ar.L1          1.5277      0.114     13.400      0.000       1.304       1.751\n",
       "ar.L2         -1.5716      0.148    -10.620      0.000      -1.862      -1.282\n",
       "ar.L3          0.9940      0.143      6.962      0.000       0.714       1.274\n",
       "ar.L4         -0.5559      0.087     -6.359      0.000      -0.727      -0.385\n",
       "ar.L5          0.3601      0.045      8.017      0.000       0.272       0.448\n",
       "ma.L1         -1.3358      0.122    -10.910      0.000      -1.576      -1.096\n",
       "ma.L2          1.1687      0.137      8.534      0.000       0.900       1.437\n",
       "ma.L3         -0.4304      0.112     -3.860      0.000      -0.649      -0.212\n",
       "sigma2         3.9753      0.236     16.854      0.000       3.513       4.438\n",
       "===================================================================================\n",
       "Ljung-Box (L1) (Q):                   0.13   Jarque-Bera (JB):                28.32\n",
       "Prob(Q):                              0.72   Prob(JB):                         0.00\n",
       "Heteroskedasticity (H):               1.72   Skew:                            -0.43\n",
       "Prob(H) (two-sided):                  0.00   Kurtosis:                         3.86\n",
       "===================================================================================\n",
       "\n",
       "Warnings:\n",
       "[1] Covariance matrix calculated using the outer product of gradients (complex-step).\n",
       "\"\"\""
      ]
     },
     "execution_count": 36,
     "metadata": {},
     "output_type": "execute_result"
    }
   ],
   "source": [
    "from statsmodels.tsa.arima.model import ARIMA\n",
    "model = ARIMA(train[\"Order_Quantity\"], order=(5,0,3))\n",
    "model = model.fit()\n",
    "model.summary()\n"
   ]
  },
  {
   "cell_type": "code",
   "execution_count": 37,
   "id": "120908bc",
   "metadata": {},
   "outputs": [
    {
     "name": "stderr",
     "output_type": "stream",
     "text": [
      "C:\\Users\\DELL\\anaconda3\\lib\\site-packages\\statsmodels\\tsa\\base\\tsa_model.py:376: ValueWarning: No supported index is available. Prediction results will be given with an integer index beginning at `start`.\n",
      "  warnings.warn('No supported index is available.'\n"
     ]
    },
    {
     "data": {
      "text/plain": [
       "Checkout_Date\n",
       "2020-05-01    4.979602\n",
       "2020-05-04    4.326722\n",
       "2020-05-05    5.281134\n",
       "2020-05-06    6.059067\n",
       "2020-05-07    6.647258\n",
       "2020-05-08    6.793672\n",
       "2020-05-11    6.100505\n",
       "2020-05-12    5.307380\n",
       "2020-05-13    5.283868\n",
       "2020-05-14    5.935886\n",
       "2020-05-15    6.618609\n",
       "Name: predicted_mean, dtype: float64"
      ]
     },
     "execution_count": 37,
     "metadata": {},
     "output_type": "execute_result"
    }
   ],
   "source": [
    "#predictios\n",
    "start = len(train)\n",
    "stop = len(test) + len(train)-1\n",
    "pred_arima = model.predict(start=start, end=stop)\n",
    "pred_arima.index = daily_df.index[start-1:stop]\n",
    "pred_arima"
   ]
  },
  {
   "cell_type": "code",
   "execution_count": 38,
   "id": "7a0f10b8",
   "metadata": {},
   "outputs": [
    {
     "data": {
      "image/png": "[encoded data removed]",
      "text/plain": [
       "<Figure size 1080x288 with 1 Axes>"
      ]
     },
     "metadata": {
      "needs_background": "light"
     },
     "output_type": "display_data"
    }
   ],
   "source": [
    "plt.plot(test)\n",
    "plt.plot(pred_arima, label=\"ARIMA forecast\")\n",
    "plt.legend()\n",
    "plt.show()"
   ]
  },
  {
   "cell_type": "code",
   "execution_count": 39,
   "id": "bca76ffa",
   "metadata": {},
   "outputs": [
    {
     "name": "stdout",
     "output_type": "stream",
     "text": [
      "1.8290116606056757\n"
     ]
    }
   ],
   "source": [
    "from sklearn.metrics import mean_squared_error\n",
    "from math import sqrt\n",
    "rmse=sqrt(mean_squared_error(pred_arima,test['Order_Quantity']))\n",
    "print(rmse)"
   ]
  },
  {
   "cell_type": "code",
   "execution_count": 40,
   "id": "3f84f9c5",
   "metadata": {},
   "outputs": [
    {
     "name": "stderr",
     "output_type": "stream",
     "text": [
      "C:\\Users\\DELL\\anaconda3\\lib\\site-packages\\statsmodels\\tsa\\base\\tsa_model.py:581: ValueWarning: A date index has been provided, but it has no associated frequency information and so will be ignored when e.g. forecasting.\n",
      "  warnings.warn('A date index has been provided, but it has no'\n",
      "C:\\Users\\DELL\\anaconda3\\lib\\site-packages\\statsmodels\\tsa\\base\\tsa_model.py:581: ValueWarning: A date index has been provided, but it has no associated frequency information and so will be ignored when e.g. forecasting.\n",
      "  warnings.warn('A date index has been provided, but it has no'\n",
      "C:\\Users\\DELL\\anaconda3\\lib\\site-packages\\statsmodels\\base\\model.py:566: ConvergenceWarning: Maximum Likelihood optimization failed to converge. Check mle_retvals\n",
      "  warnings.warn(\"Maximum Likelihood optimization failed to \"\n"
     ]
    },
    {
     "data": {
      "text/html": [
       "<table class=\"simpletable\">\n",
       "<caption>SARIMAX Results</caption>\n",
       "<tr>\n",
       "  <th>Dep. Variable:</th>           <td>Order_Quantity</td>         <th>  No. Observations:  </th>    <td>460</td>   \n",
       "</tr>\n",
       "<tr>\n",
       "  <th>Model:</th>           <td>SARIMAX(5, 0, 3)x(5, 0, 3, 15)</td> <th>  Log Likelihood     </th> <td>-1007.944</td>\n",
       "</tr>\n",
       "<tr>\n",
       "  <th>Date:</th>                   <td>Tue, 15 Feb 2022</td>        <th>  AIC                </th> <td>2049.887</td> \n",
       "</tr>\n",
       "<tr>\n",
       "  <th>Time:</th>                       <td>11:48:05</td>            <th>  BIC                </th> <td>2120.118</td> \n",
       "</tr>\n",
       "<tr>\n",
       "  <th>Sample:</th>                         <td>0</td>               <th>  HQIC               </th> <td>2077.543</td> \n",
       "</tr>\n",
       "<tr>\n",
       "  <th></th>                             <td> - 460</td>             <th>                     </th>     <td> </td>    \n",
       "</tr>\n",
       "<tr>\n",
       "  <th>Covariance Type:</th>               <td>opg</td>              <th>                     </th>     <td> </td>    \n",
       "</tr>\n",
       "</table>\n",
       "<table class=\"simpletable\">\n",
       "<tr>\n",
       "      <td></td>        <th>coef</th>     <th>std err</th>      <th>z</th>      <th>P>|z|</th>  <th>[0.025</th>    <th>0.975]</th>  \n",
       "</tr>\n",
       "<tr>\n",
       "  <th>ar.L1</th>    <td>   -0.1063</td> <td>    0.055</td> <td>   -1.931</td> <td> 0.054</td> <td>   -0.214</td> <td>    0.002</td>\n",
       "</tr>\n",
       "<tr>\n",
       "  <th>ar.L2</th>    <td>    0.2378</td> <td>    0.065</td> <td>    3.685</td> <td> 0.000</td> <td>    0.111</td> <td>    0.364</td>\n",
       "</tr>\n",
       "<tr>\n",
       "  <th>ar.L3</th>    <td>    0.8199</td> <td>    0.053</td> <td>   15.503</td> <td> 0.000</td> <td>    0.716</td> <td>    0.924</td>\n",
       "</tr>\n",
       "<tr>\n",
       "  <th>ar.L4</th>    <td>   -0.1112</td> <td>    0.052</td> <td>   -2.128</td> <td> 0.033</td> <td>   -0.214</td> <td>   -0.009</td>\n",
       "</tr>\n",
       "<tr>\n",
       "  <th>ar.L5</th>    <td>    0.1578</td> <td>    0.055</td> <td>    2.878</td> <td> 0.004</td> <td>    0.050</td> <td>    0.265</td>\n",
       "</tr>\n",
       "<tr>\n",
       "  <th>ma.L1</th>    <td>    0.3706</td> <td>    0.037</td> <td>    9.914</td> <td> 0.000</td> <td>    0.297</td> <td>    0.444</td>\n",
       "</tr>\n",
       "<tr>\n",
       "  <th>ma.L2</th>    <td>   -0.3134</td> <td>    0.039</td> <td>   -8.017</td> <td> 0.000</td> <td>   -0.390</td> <td>   -0.237</td>\n",
       "</tr>\n",
       "<tr>\n",
       "  <th>ma.L3</th>    <td>   -0.9299</td> <td>    0.039</td> <td>  -24.034</td> <td> 0.000</td> <td>   -1.006</td> <td>   -0.854</td>\n",
       "</tr>\n",
       "<tr>\n",
       "  <th>ar.S.L15</th> <td>   -0.9087</td> <td>    0.146</td> <td>   -6.214</td> <td> 0.000</td> <td>   -1.195</td> <td>   -0.622</td>\n",
       "</tr>\n",
       "<tr>\n",
       "  <th>ar.S.L30</th> <td>    0.6787</td> <td>    0.188</td> <td>    3.614</td> <td> 0.000</td> <td>    0.311</td> <td>    1.047</td>\n",
       "</tr>\n",
       "<tr>\n",
       "  <th>ar.S.L45</th> <td>    0.9237</td> <td>    0.178</td> <td>    5.189</td> <td> 0.000</td> <td>    0.575</td> <td>    1.273</td>\n",
       "</tr>\n",
       "<tr>\n",
       "  <th>ar.S.L60</th> <td>    0.1889</td> <td>    0.078</td> <td>    2.433</td> <td> 0.015</td> <td>    0.037</td> <td>    0.341</td>\n",
       "</tr>\n",
       "<tr>\n",
       "  <th>ar.S.L75</th> <td>    0.1172</td> <td>    0.062</td> <td>    1.887</td> <td> 0.059</td> <td>   -0.005</td> <td>    0.239</td>\n",
       "</tr>\n",
       "<tr>\n",
       "  <th>ma.S.L15</th> <td>    0.7771</td> <td>    1.209</td> <td>    0.643</td> <td> 0.520</td> <td>   -1.593</td> <td>    3.147</td>\n",
       "</tr>\n",
       "<tr>\n",
       "  <th>ma.S.L30</th> <td>   -0.8520</td> <td>    2.151</td> <td>   -0.396</td> <td> 0.692</td> <td>   -5.069</td> <td>    3.365</td>\n",
       "</tr>\n",
       "<tr>\n",
       "  <th>ma.S.L45</th> <td>   -0.9209</td> <td>    1.131</td> <td>   -0.814</td> <td> 0.416</td> <td>   -3.137</td> <td>    1.296</td>\n",
       "</tr>\n",
       "<tr>\n",
       "  <th>sigma2</th>   <td>    4.4984</td> <td>    5.126</td> <td>    0.878</td> <td> 0.380</td> <td>   -5.549</td> <td>   14.546</td>\n",
       "</tr>\n",
       "</table>\n",
       "<table class=\"simpletable\">\n",
       "<tr>\n",
       "  <th>Ljung-Box (L1) (Q):</th>     <td>0.00</td> <th>  Jarque-Bera (JB):  </th> <td>46.84</td>\n",
       "</tr>\n",
       "<tr>\n",
       "  <th>Prob(Q):</th>                <td>0.99</td> <th>  Prob(JB):          </th> <td>0.00</td> \n",
       "</tr>\n",
       "<tr>\n",
       "  <th>Heteroskedasticity (H):</th> <td>1.70</td> <th>  Skew:              </th> <td>-0.71</td>\n",
       "</tr>\n",
       "<tr>\n",
       "  <th>Prob(H) (two-sided):</th>    <td>0.00</td> <th>  Kurtosis:          </th> <td>3.67</td> \n",
       "</tr>\n",
       "</table><br/><br/>Warnings:<br/>[1] Covariance matrix calculated using the outer product of gradients (complex-step)."
      ],
      "text/plain": [
       "<class 'statsmodels.iolib.summary.Summary'>\n",
       "\"\"\"\n",
       "                                     SARIMAX Results                                      \n",
       "==========================================================================================\n",
       "Dep. Variable:                     Order_Quantity   No. Observations:                  460\n",
       "Model:             SARIMAX(5, 0, 3)x(5, 0, 3, 15)   Log Likelihood               -1007.944\n",
       "Date:                            Tue, 15 Feb 2022   AIC                           2049.887\n",
       "Time:                                    11:48:05   BIC                           2120.118\n",
       "Sample:                                         0   HQIC                          2077.543\n",
       "                                            - 460                                         \n",
       "Covariance Type:                              opg                                         \n",
       "==============================================================================\n",
       "                 coef    std err          z      P>|z|      [0.025      0.975]\n",
       "------------------------------------------------------------------------------\n",
       "ar.L1         -0.1063      0.055     -1.931      0.054      -0.214       0.002\n",
       "ar.L2          0.2378      0.065      3.685      0.000       0.111       0.364\n",
       "ar.L3          0.8199      0.053     15.503      0.000       0.716       0.924\n",
       "ar.L4         -0.1112      0.052     -2.128      0.033      -0.214      -0.009\n",
       "ar.L5          0.1578      0.055      2.878      0.004       0.050       0.265\n",
       "ma.L1          0.3706      0.037      9.914      0.000       0.297       0.444\n",
       "ma.L2         -0.3134      0.039     -8.017      0.000      -0.390      -0.237\n",
       "ma.L3         -0.9299      0.039    -24.034      0.000      -1.006      -0.854\n",
       "ar.S.L15      -0.9087      0.146     -6.214      0.000      -1.195      -0.622\n",
       "ar.S.L30       0.6787      0.188      3.614      0.000       0.311       1.047\n",
       "ar.S.L45       0.9237      0.178      5.189      0.000       0.575       1.273\n",
       "ar.S.L60       0.1889      0.078      2.433      0.015       0.037       0.341\n",
       "ar.S.L75       0.1172      0.062      1.887      0.059      -0.005       0.239\n",
       "ma.S.L15       0.7771      1.209      0.643      0.520      -1.593       3.147\n",
       "ma.S.L30      -0.8520      2.151     -0.396      0.692      -5.069       3.365\n",
       "ma.S.L45      -0.9209      1.131     -0.814      0.416      -3.137       1.296\n",
       "sigma2         4.4984      5.126      0.878      0.380      -5.549      14.546\n",
       "===================================================================================\n",
       "Ljung-Box (L1) (Q):                   0.00   Jarque-Bera (JB):                46.84\n",
       "Prob(Q):                              0.99   Prob(JB):                         0.00\n",
       "Heteroskedasticity (H):               1.70   Skew:                            -0.71\n",
       "Prob(H) (two-sided):                  0.00   Kurtosis:                         3.67\n",
       "===================================================================================\n",
       "\n",
       "Warnings:\n",
       "[1] Covariance matrix calculated using the outer product of gradients (complex-step).\n",
       "\"\"\""
      ]
     },
     "execution_count": 40,
     "metadata": {},
     "output_type": "execute_result"
    }
   ],
   "source": [
    "from statsmodels.tsa.statespace.sarimax import SARIMAX\n",
    "model_sarima=SARIMAX(train['Order_Quantity'],order=(5,0,3),seasonal_order=(5,0,3,15))\n",
    "results_sarima = model_sarima.fit()\n",
    "results_sarima.summary()"
   ]
  },
  {
   "cell_type": "code",
   "execution_count": 41,
   "id": "3ac137bd",
   "metadata": {},
   "outputs": [
    {
     "name": "stderr",
     "output_type": "stream",
     "text": [
      "C:\\Users\\DELL\\anaconda3\\lib\\site-packages\\statsmodels\\tsa\\base\\tsa_model.py:376: ValueWarning: No supported index is available. Prediction results will be given with an integer index beginning at `start`.\n",
      "  warnings.warn('No supported index is available.'\n"
     ]
    },
    {
     "data": {
      "text/plain": [
       "Checkout_Date\n",
       "2020-05-01    5.128177\n",
       "2020-05-04    5.704007\n",
       "2020-05-05    6.038896\n",
       "2020-05-06    5.922167\n",
       "2020-05-07    5.563491\n",
       "2020-05-08    5.498519\n",
       "2020-05-11    4.995570\n",
       "2020-05-12    5.923701\n",
       "2020-05-13    6.145222\n",
       "2020-05-14    6.395692\n",
       "2020-05-15    5.385167\n",
       "Name: predicted_mean, dtype: float64"
      ]
     },
     "execution_count": 41,
     "metadata": {},
     "output_type": "execute_result"
    }
   ],
   "source": [
    "start = len(train)\n",
    "stop = len(test) + len(train)-1\n",
    "pred_sarima = results_sarima.predict(start=start, end=stop)\n",
    "pred_sarima.index = daily_df.index[start-1:stop]\n",
    "pred_sarima"
   ]
  },
  {
   "cell_type": "code",
   "execution_count": 42,
   "id": "1b5eaa73",
   "metadata": {},
   "outputs": [
    {
     "data": {
      "image/png": "[encoded data removed]",
      "text/plain": [
       "<Figure size 1080x288 with 1 Axes>"
      ]
     },
     "metadata": {
      "needs_background": "light"
     },
     "output_type": "display_data"
    }
   ],
   "source": [
    "plt.plot(test)\n",
    "plt.plot(pred_sarima, label=\"SARIMA forecast\")\n",
    "plt.legend()\n",
    "plt.show()"
   ]
  },
  {
   "cell_type": "code",
   "execution_count": 43,
   "id": "116ec634",
   "metadata": {},
   "outputs": [
    {
     "name": "stdout",
     "output_type": "stream",
     "text": [
      "1.7048228028231127\n"
     ]
    }
   ],
   "source": [
    "from sklearn.metrics import mean_squared_error\n",
    "from math import sqrt\n",
    "rmse=sqrt(mean_squared_error(pred_sarima,test['Order_Quantity']))\n",
    "print(rmse)"
   ]
  },
  {
   "cell_type": "code",
   "execution_count": 44,
   "id": "baf6b136",
   "metadata": {},
   "outputs": [
    {
     "name": "stderr",
     "output_type": "stream",
     "text": [
      "C:\\Users\\DELL\\anaconda3\\lib\\site-packages\\statsmodels\\tsa\\base\\tsa_model.py:581: ValueWarning: A date index has been provided, but it has no associated frequency information and so will be ignored when e.g. forecasting.\n",
      "  warnings.warn('A date index has been provided, but it has no'\n"
     ]
    },
    {
     "data": {
      "text/html": [
       "<table class=\"simpletable\">\n",
       "<caption>SimpleExpSmoothing Model Results</caption>\n",
       "<tr>\n",
       "  <th>Dep. Variable:</th>      <td>Order_Quantity</td>   <th>  No. Observations:  </th>        <td>460</td>      \n",
       "</tr>\n",
       "<tr>\n",
       "  <th>Model:</th>            <td>SimpleExpSmoothing</td> <th>  SSE                </th>     <td>2399.060</td>    \n",
       "</tr>\n",
       "<tr>\n",
       "  <th>Optimized:</th>               <td>True</td>        <th>  AIC                </th>      <td>763.739</td>    \n",
       "</tr>\n",
       "<tr>\n",
       "  <th>Trend:</th>                   <td>None</td>        <th>  BIC                </th>      <td>772.001</td>    \n",
       "</tr>\n",
       "<tr>\n",
       "  <th>Seasonal:</th>                <td>None</td>        <th>  AICC               </th>      <td>763.827</td>    \n",
       "</tr>\n",
       "<tr>\n",
       "  <th>Seasonal Periods:</th>        <td>None</td>        <th>  Date:              </th> <td>Tue, 15 Feb 2022</td>\n",
       "</tr>\n",
       "<tr>\n",
       "  <th>Box-Cox:</th>                 <td>False</td>       <th>  Time:              </th>     <td>11:48:05</td>    \n",
       "</tr>\n",
       "<tr>\n",
       "  <th>Box-Cox Coeff.:</th>          <td>None</td>        <th>                     </th>         <td> </td>       \n",
       "</tr>\n",
       "</table>\n",
       "<table class=\"simpletable\">\n",
       "<tr>\n",
       "         <td></td>                 <th>coeff</th>                <th>code</th>               <th>optimized</th>     \n",
       "</tr>\n",
       "<tr>\n",
       "  <th>smoothing_level</th> <td>          1.4901e-08</td> <td>               alpha</td> <td>                True</td>\n",
       "</tr>\n",
       "<tr>\n",
       "  <th>initial_level</th>   <td>           6.2247856</td> <td>                 l.0</td> <td>                True</td>\n",
       "</tr>\n",
       "</table>"
      ],
      "text/plain": [
       "<class 'statsmodels.iolib.summary.Summary'>\n",
       "\"\"\"\n",
       "                       SimpleExpSmoothing Model Results                       \n",
       "==============================================================================\n",
       "Dep. Variable:         Order_Quantity   No. Observations:                  460\n",
       "Model:             SimpleExpSmoothing   SSE                           2399.060\n",
       "Optimized:                       True   AIC                            763.739\n",
       "Trend:                           None   BIC                            772.001\n",
       "Seasonal:                        None   AICC                           763.827\n",
       "Seasonal Periods:                None   Date:                 Tue, 15 Feb 2022\n",
       "Box-Cox:                        False   Time:                         11:48:05\n",
       "Box-Cox Coeff.:                  None                                         \n",
       "==============================================================================\n",
       "                       coeff                 code              optimized      \n",
       "------------------------------------------------------------------------------\n",
       "smoothing_level           1.4901e-08                alpha                 True\n",
       "initial_level              6.2247856                  l.0                 True\n",
       "------------------------------------------------------------------------------\n",
       "\"\"\""
      ]
     },
     "execution_count": 44,
     "metadata": {},
     "output_type": "execute_result"
    }
   ],
   "source": [
    "from statsmodels.tsa.holtwinters import SimpleExpSmoothing\n",
    "\n",
    "model = SimpleExpSmoothing(train[\"Order_Quantity\"])\n",
    "model_ses = model.fit()\n",
    "model_ses.summary()"
   ]
  },
  {
   "cell_type": "code",
   "execution_count": 45,
   "id": "00098b99",
   "metadata": {},
   "outputs": [
    {
     "name": "stderr",
     "output_type": "stream",
     "text": [
      "C:\\Users\\DELL\\anaconda3\\lib\\site-packages\\statsmodels\\tsa\\base\\tsa_model.py:376: ValueWarning: No supported index is available. Prediction results will be given with an integer index beginning at `start`.\n",
      "  warnings.warn('No supported index is available.'\n"
     ]
    },
    {
     "data": {
      "text/plain": [
       "Checkout_Date\n",
       "2020-05-01    6.224786\n",
       "2020-05-04    6.224786\n",
       "2020-05-05    6.224786\n",
       "2020-05-06    6.224786\n",
       "2020-05-07    6.224786\n",
       "2020-05-08    6.224786\n",
       "2020-05-11    6.224786\n",
       "2020-05-12    6.224786\n",
       "2020-05-13    6.224786\n",
       "2020-05-14    6.224786\n",
       "2020-05-15    6.224786\n",
       "dtype: float64"
      ]
     },
     "execution_count": 45,
     "metadata": {},
     "output_type": "execute_result"
    }
   ],
   "source": [
    "#predictios\n",
    "start = len(train)\n",
    "stop = len(test) + len(train)-1\n",
    "pred_ses = model_ses.predict(start=start, end=stop)\n",
    "pred_ses.index = daily_df.index[start-1:stop]\n",
    "pred_ses"
   ]
  },
  {
   "cell_type": "code",
   "execution_count": 46,
   "id": "769a47fe",
   "metadata": {},
   "outputs": [
    {
     "data": {
      "image/png": "[encoded data removed]",
      "text/plain": [
       "<Figure size 1080x288 with 1 Axes>"
      ]
     },
     "metadata": {
      "needs_background": "light"
     },
     "output_type": "display_data"
    }
   ],
   "source": [
    "plt.plot(test)\n",
    "plt.plot(pred_ses, label=\"SARIMA forecast\")\n",
    "plt.legend()\n",
    "plt.show()"
   ]
  },
  {
   "cell_type": "code",
   "execution_count": 47,
   "id": "63da700c",
   "metadata": {},
   "outputs": [
    {
     "name": "stdout",
     "output_type": "stream",
     "text": [
      "1.2432522734663911\n"
     ]
    }
   ],
   "source": [
    "from sklearn.metrics import mean_squared_error\n",
    "from math import sqrt\n",
    "rmse=sqrt(mean_squared_error(pred_ses,test['Order_Quantity']))\n",
    "print(rmse)"
   ]
  },
  {
   "cell_type": "code",
   "execution_count": 48,
   "id": "034ff057",
   "metadata": {},
   "outputs": [
    {
     "name": "stderr",
     "output_type": "stream",
     "text": [
      "C:\\Users\\DELL\\anaconda3\\lib\\site-packages\\statsmodels\\tsa\\base\\tsa_model.py:581: ValueWarning: A date index has been provided, but it has no associated frequency information and so will be ignored when e.g. forecasting.\n",
      "  warnings.warn('A date index has been provided, but it has no'\n"
     ]
    },
    {
     "data": {
      "text/html": [
       "<table class=\"simpletable\">\n",
       "<caption>Holt Model Results</caption>\n",
       "<tr>\n",
       "  <th>Dep. Variable:</th>    <td>Order_Quantity</td> <th>  No. Observations:  </th>        <td>460</td>      \n",
       "</tr>\n",
       "<tr>\n",
       "  <th>Model:</th>                 <td>Holt</td>      <th>  SSE                </th>     <td>3138.840</td>    \n",
       "</tr>\n",
       "<tr>\n",
       "  <th>Optimized:</th>             <td>True</td>      <th>  AIC                </th>      <td>891.376</td>    \n",
       "</tr>\n",
       "<tr>\n",
       "  <th>Trend:</th>               <td>Additive</td>    <th>  BIC                </th>      <td>907.901</td>    \n",
       "</tr>\n",
       "<tr>\n",
       "  <th>Seasonal:</th>              <td>None</td>      <th>  AICC               </th>      <td>891.561</td>    \n",
       "</tr>\n",
       "<tr>\n",
       "  <th>Seasonal Periods:</th>      <td>None</td>      <th>  Date:              </th> <td>Tue, 15 Feb 2022</td>\n",
       "</tr>\n",
       "<tr>\n",
       "  <th>Box-Cox:</th>               <td>False</td>     <th>  Time:              </th>     <td>11:48:05</td>    \n",
       "</tr>\n",
       "<tr>\n",
       "  <th>Box-Cox Coeff.:</th>        <td>None</td>      <th>                     </th>         <td> </td>       \n",
       "</tr>\n",
       "</table>\n",
       "<table class=\"simpletable\">\n",
       "<tr>\n",
       "         <td></td>                 <th>coeff</th>                <th>code</th>               <th>optimized</th>     \n",
       "</tr>\n",
       "<tr>\n",
       "  <th>smoothing_level</th> <td>           0.3000000</td> <td>               alpha</td> <td>               False</td>\n",
       "</tr>\n",
       "<tr>\n",
       "  <th>smoothing_trend</th> <td>           0.2500000</td> <td>                beta</td> <td>               False</td>\n",
       "</tr>\n",
       "<tr>\n",
       "  <th>initial_level</th>   <td>           3.5763335</td> <td>                 l.0</td> <td>                True</td>\n",
       "</tr>\n",
       "<tr>\n",
       "  <th>initial_trend</th>   <td>           0.4548908</td> <td>                 b.0</td> <td>                True</td>\n",
       "</tr>\n",
       "</table>"
      ],
      "text/plain": [
       "<class 'statsmodels.iolib.summary.Summary'>\n",
       "\"\"\"\n",
       "                              Holt Model Results                              \n",
       "==============================================================================\n",
       "Dep. Variable:         Order_Quantity   No. Observations:                  460\n",
       "Model:                           Holt   SSE                           3138.840\n",
       "Optimized:                       True   AIC                            891.376\n",
       "Trend:                       Additive   BIC                            907.901\n",
       "Seasonal:                        None   AICC                           891.561\n",
       "Seasonal Periods:                None   Date:                 Tue, 15 Feb 2022\n",
       "Box-Cox:                        False   Time:                         11:48:05\n",
       "Box-Cox Coeff.:                  None                                         \n",
       "==============================================================================\n",
       "                       coeff                 code              optimized      \n",
       "------------------------------------------------------------------------------\n",
       "smoothing_level            0.3000000                alpha                False\n",
       "smoothing_trend            0.2500000                 beta                False\n",
       "initial_level              3.5763335                  l.0                 True\n",
       "initial_trend              0.4548908                  b.0                 True\n",
       "------------------------------------------------------------------------------\n",
       "\"\"\""
      ]
     },
     "execution_count": 48,
     "metadata": {},
     "output_type": "execute_result"
    }
   ],
   "source": [
    "from statsmodels.tsa.api import Holt\n",
    "fit1 = Holt(train['Order_Quantity']).fit(smoothing_level = 0.3,smoothing_slope = 0.25)\n",
    "\n",
    "fit1.summary()\n"
   ]
  },
  {
   "cell_type": "code",
   "execution_count": 49,
   "id": "7b202e6a",
   "metadata": {},
   "outputs": [
    {
     "name": "stderr",
     "output_type": "stream",
     "text": [
      "C:\\Users\\DELL\\anaconda3\\lib\\site-packages\\statsmodels\\tsa\\base\\tsa_model.py:376: ValueWarning: No supported index is available. Prediction results will be given with an integer index beginning at `start`.\n",
      "  warnings.warn('No supported index is available.'\n"
     ]
    },
    {
     "data": {
      "text/plain": [
       "Checkout_Date\n",
       "2020-05-01    6.060471\n",
       "2020-05-04    6.331979\n",
       "2020-05-05    6.603487\n",
       "2020-05-06    6.874996\n",
       "2020-05-07    7.146504\n",
       "2020-05-08    7.418012\n",
       "2020-05-11    7.689520\n",
       "2020-05-12    7.961028\n",
       "2020-05-13    8.232536\n",
       "2020-05-14    8.504045\n",
       "2020-05-15    8.775553\n",
       "dtype: float64"
      ]
     },
     "execution_count": 49,
     "metadata": {},
     "output_type": "execute_result"
    }
   ],
   "source": [
    "#predictios\n",
    "start = len(train)\n",
    "stop = len(test) + len(train)-1\n",
    "pred_holt = fit1.predict(start=start, end=stop)\n",
    "pred_holt.index = daily_df.index[start-1:stop]\n",
    "pred_holt"
   ]
  },
  {
   "cell_type": "code",
   "execution_count": 50,
   "id": "fb142004",
   "metadata": {},
   "outputs": [
    {
     "data": {
      "image/png": "[encoded data removed]",
      "text/plain": [
       "<Figure size 1080x288 with 1 Axes>"
      ]
     },
     "metadata": {
      "needs_background": "light"
     },
     "output_type": "display_data"
    }
   ],
   "source": [
    "plt.plot(test)\n",
    "plt.plot(pred_holt, label=\"Holt linear forecast\")\n",
    "plt.legend()\n",
    "plt.show()"
   ]
  },
  {
   "cell_type": "code",
   "execution_count": 51,
   "id": "dfcde583",
   "metadata": {},
   "outputs": [
    {
     "name": "stdout",
     "output_type": "stream",
     "text": [
      "0.8063199535808728\n"
     ]
    }
   ],
   "source": [
    "from sklearn.metrics import mean_squared_error\n",
    "from math import sqrt\n",
    "rmse=sqrt(mean_squared_error(pred_holt,test['Order_Quantity']))\n",
    "print(rmse)"
   ]
  },
  {
   "cell_type": "code",
   "execution_count": 52,
   "id": "9be8a6e8",
   "metadata": {},
   "outputs": [
    {
     "name": "stderr",
     "output_type": "stream",
     "text": [
      "C:\\Users\\DELL\\anaconda3\\lib\\site-packages\\statsmodels\\tsa\\base\\tsa_model.py:581: ValueWarning: A date index has been provided, but it has no associated frequency information and so will be ignored when e.g. forecasting.\n",
      "  warnings.warn('A date index has been provided, but it has no'\n"
     ]
    },
    {
     "data": {
      "text/html": [
       "<table class=\"simpletable\">\n",
       "<caption>ExponentialSmoothing Model Results</caption>\n",
       "<tr>\n",
       "  <th>Dep. Variable:</th>       <td>Order_Quantity</td>    <th>  No. Observations:  </th>        <td>460</td>      \n",
       "</tr>\n",
       "<tr>\n",
       "  <th>Model:</th>            <td>ExponentialSmoothing</td> <th>  SSE                </th>     <td>2352.446</td>    \n",
       "</tr>\n",
       "<tr>\n",
       "  <th>Optimized:</th>                <td>True</td>         <th>  AIC                </th>      <td>774.713</td>    \n",
       "</tr>\n",
       "<tr>\n",
       "  <th>Trend:</th>                  <td>Additive</td>       <th>  BIC                </th>      <td>824.287</td>    \n",
       "</tr>\n",
       "<tr>\n",
       "  <th>Seasonal:</th>               <td>Additive</td>       <th>  AICC               </th>      <td>775.657</td>    \n",
       "</tr>\n",
       "<tr>\n",
       "  <th>Seasonal Periods:</th>           <td>8</td>          <th>  Date:              </th> <td>Tue, 15 Feb 2022</td>\n",
       "</tr>\n",
       "<tr>\n",
       "  <th>Box-Cox:</th>                  <td>False</td>        <th>  Time:              </th>     <td>11:48:06</td>    \n",
       "</tr>\n",
       "<tr>\n",
       "  <th>Box-Cox Coeff.:</th>           <td>None</td>         <th>                     </th>         <td> </td>       \n",
       "</tr>\n",
       "</table>\n",
       "<table class=\"simpletable\">\n",
       "<tr>\n",
       "           <td></td>                  <th>coeff</th>                <th>code</th>               <th>optimized</th>     \n",
       "</tr>\n",
       "<tr>\n",
       "  <th>smoothing_level</th>    <td>          1.4901e-08</td> <td>               alpha</td> <td>                True</td>\n",
       "</tr>\n",
       "<tr>\n",
       "  <th>smoothing_trend</th>    <td>          1.0832e-09</td> <td>                beta</td> <td>                True</td>\n",
       "</tr>\n",
       "<tr>\n",
       "  <th>smoothing_seasonal</th> <td>            0.000000</td> <td>               gamma</td> <td>                True</td>\n",
       "</tr>\n",
       "<tr>\n",
       "  <th>initial_level</th>      <td>           7.1012159</td> <td>                 l.0</td> <td>                True</td>\n",
       "</tr>\n",
       "<tr>\n",
       "  <th>initial_trend</th>      <td>          -0.0012493</td> <td>                 b.0</td> <td>                True</td>\n",
       "</tr>\n",
       "<tr>\n",
       "  <th>initial_seasons.0</th>  <td>          -0.9317710</td> <td>                 s.0</td> <td>                True</td>\n",
       "</tr>\n",
       "<tr>\n",
       "  <th>initial_seasons.1</th>  <td>          -1.0517389</td> <td>                 s.1</td> <td>                True</td>\n",
       "</tr>\n",
       "<tr>\n",
       "  <th>initial_seasons.2</th>  <td>          -0.5291715</td> <td>                 s.2</td> <td>                True</td>\n",
       "</tr>\n",
       "<tr>\n",
       "  <th>initial_seasons.3</th>  <td>          -0.6238191</td> <td>                 s.3</td> <td>                True</td>\n",
       "</tr>\n",
       "<tr>\n",
       "  <th>initial_seasons.4</th>  <td>          -0.4541471</td> <td>                 s.4</td> <td>                True</td>\n",
       "</tr>\n",
       "<tr>\n",
       "  <th>initial_seasons.5</th>  <td>          -0.3599104</td> <td>                 s.5</td> <td>                True</td>\n",
       "</tr>\n",
       "<tr>\n",
       "  <th>initial_seasons.6</th>  <td>          -0.1597079</td> <td>                 s.6</td> <td>                True</td>\n",
       "</tr>\n",
       "<tr>\n",
       "  <th>initial_seasons.7</th>  <td>          -0.5836635</td> <td>                 s.7</td> <td>                True</td>\n",
       "</tr>\n",
       "</table>"
      ],
      "text/plain": [
       "<class 'statsmodels.iolib.summary.Summary'>\n",
       "\"\"\"\n",
       "                       ExponentialSmoothing Model Results                       \n",
       "================================================================================\n",
       "Dep. Variable:           Order_Quantity   No. Observations:                  460\n",
       "Model:             ExponentialSmoothing   SSE                           2352.446\n",
       "Optimized:                         True   AIC                            774.713\n",
       "Trend:                         Additive   BIC                            824.287\n",
       "Seasonal:                      Additive   AICC                           775.657\n",
       "Seasonal Periods:                     8   Date:                 Tue, 15 Feb 2022\n",
       "Box-Cox:                          False   Time:                         11:48:06\n",
       "Box-Cox Coeff.:                    None                                         \n",
       "=================================================================================\n",
       "                          coeff                 code              optimized      \n",
       "---------------------------------------------------------------------------------\n",
       "smoothing_level              1.4901e-08                alpha                 True\n",
       "smoothing_trend              1.0832e-09                 beta                 True\n",
       "smoothing_seasonal             0.000000                gamma                 True\n",
       "initial_level                 7.1012159                  l.0                 True\n",
       "initial_trend                -0.0012493                  b.0                 True\n",
       "initial_seasons.0            -0.9317710                  s.0                 True\n",
       "initial_seasons.1            -1.0517389                  s.1                 True\n",
       "initial_seasons.2            -0.5291715                  s.2                 True\n",
       "initial_seasons.3            -0.6238191                  s.3                 True\n",
       "initial_seasons.4            -0.4541471                  s.4                 True\n",
       "initial_seasons.5            -0.3599104                  s.5                 True\n",
       "initial_seasons.6            -0.1597079                  s.6                 True\n",
       "initial_seasons.7            -0.5836635                  s.7                 True\n",
       "---------------------------------------------------------------------------------\n",
       "\"\"\""
      ]
     },
     "execution_count": 52,
     "metadata": {},
     "output_type": "execute_result"
    }
   ],
   "source": [
    "from statsmodels.tsa.api import ExponentialSmoothing\n",
    "fit_holt_winter = ExponentialSmoothing(train['Order_Quantity'] ,seasonal_periods=8,\n",
    "                                       trend='add', seasonal='add').fit()\n",
    "fit_holt_winter.summary()"
   ]
  },
  {
   "cell_type": "code",
   "execution_count": 53,
   "id": "e6689162",
   "metadata": {},
   "outputs": [
    {
     "name": "stderr",
     "output_type": "stream",
     "text": [
      "C:\\Users\\DELL\\anaconda3\\lib\\site-packages\\statsmodels\\tsa\\base\\tsa_model.py:376: ValueWarning: No supported index is available. Prediction results will be given with an integer index beginning at `start`.\n",
      "  warnings.warn('No supported index is available.'\n"
     ]
    },
    {
     "data": {
      "text/plain": [
       "Checkout_Date\n",
       "2020-05-01    6.071127\n",
       "2020-05-04    6.164114\n",
       "2020-05-05    6.363067\n",
       "2020-05-06    5.937862\n",
       "2020-05-07    5.588505\n",
       "2020-05-08    5.467288\n",
       "2020-05-11    5.988606\n",
       "2020-05-12    5.892709\n",
       "2020-05-13    6.061132\n",
       "2020-05-14    6.154119\n",
       "2020-05-15    6.353073\n",
       "dtype: float64"
      ]
     },
     "execution_count": 53,
     "metadata": {},
     "output_type": "execute_result"
    }
   ],
   "source": [
    "#predictios\n",
    "start = len(train)\n",
    "stop = len(test) + len(train)-1\n",
    "pred_holt_winter = fit_holt_winter.predict(start=start, end=stop)\n",
    "pred_holt_winter.index = daily_df.index[start-1:stop]\n",
    "pred_holt_winter"
   ]
  },
  {
   "cell_type": "code",
   "execution_count": 54,
   "id": "f10276cc",
   "metadata": {},
   "outputs": [
    {
     "data": {
      "image/png": "[encoded data removed]",
      "text/plain": [
       "<Figure size 1080x288 with 1 Axes>"
      ]
     },
     "metadata": {
      "needs_background": "light"
     },
     "output_type": "display_data"
    }
   ],
   "source": [
    "plt.plot(test)\n",
    "plt.plot(pred_holt_winter, label=\"Holt Winter forecast\")\n",
    "plt.legend()\n",
    "plt.show()"
   ]
  },
  {
   "cell_type": "code",
   "execution_count": 55,
   "id": "0a92202f",
   "metadata": {},
   "outputs": [
    {
     "name": "stdout",
     "output_type": "stream",
     "text": [
      "1.430019898240067\n"
     ]
    }
   ],
   "source": [
    "from sklearn.metrics import mean_squared_error\n",
    "from math import sqrt\n",
    "rmse=sqrt(mean_squared_error(pred_holt_winter,test['Order_Quantity']))\n",
    "print(rmse)"
   ]
  },
  {
   "cell_type": "code",
   "execution_count": 56,
   "id": "b73be891",
   "metadata": {},
   "outputs": [],
   "source": [
    "## LSTM \n",
    "from sklearn.preprocessing import MinMaxScaler\n",
    "scaler = MinMaxScaler()"
   ]
  },
  {
   "cell_type": "code",
   "execution_count": 57,
   "id": "0bcc1c3f",
   "metadata": {},
   "outputs": [],
   "source": [
    "scaler.fit(train)\n",
    "scaled_train = scaler.transform(train)\n",
    "scaled_test = scaler.transform(test)"
   ]
  },
  {
   "cell_type": "code",
   "execution_count": 58,
   "id": "77508b25",
   "metadata": {},
   "outputs": [
    {
     "data": {
      "text/plain": [
       "array([[0.05896596],\n",
       "       [0.37170847],\n",
       "       [0.51424796],\n",
       "       [0.52304955],\n",
       "       [0.40063923],\n",
       "       [0.57999212],\n",
       "       [0.52413325],\n",
       "       [0.5281641 ],\n",
       "       [0.60364688],\n",
       "       [0.59114195]])"
      ]
     },
     "execution_count": 58,
     "metadata": {},
     "output_type": "execute_result"
    }
   ],
   "source": [
    "scaled_train[:10]"
   ]
  },
  {
   "cell_type": "code",
   "execution_count": 59,
   "id": "72fa2e6f",
   "metadata": {},
   "outputs": [],
   "source": [
    "from keras.preprocessing.sequence import TimeseriesGenerator"
   ]
  },
  {
   "cell_type": "code",
   "execution_count": 60,
   "id": "d9aae504",
   "metadata": {},
   "outputs": [],
   "source": [
    "# define generator\n",
    "n_input = 5\n",
    "n_features = 1\n",
    "generator = TimeseriesGenerator(scaled_train, scaled_train, length=n_input, batch_size=1)"
   ]
  },
  {
   "cell_type": "code",
   "execution_count": 61,
   "id": "3d271b43",
   "metadata": {},
   "outputs": [
    {
     "data": {
      "text/plain": [
       "(array([[[0.05896596],\n",
       "         [0.37170847],\n",
       "         [0.51424796],\n",
       "         [0.52304955],\n",
       "         [0.40063923]]]),\n",
       " array([[0.57999212]]))"
      ]
     },
     "execution_count": 61,
     "metadata": {},
     "output_type": "execute_result"
    }
   ],
   "source": [
    "generator[0]"
   ]
  },
  {
   "cell_type": "code",
   "execution_count": 62,
   "id": "696fbbd7",
   "metadata": {},
   "outputs": [],
   "source": [
    "from keras.models import Sequential\n",
    "from keras.layers import Dense\n",
    "from keras.layers import LSTM\n"
   ]
  },
  {
   "cell_type": "code",
   "execution_count": 64,
   "id": "d91493f2",
   "metadata": {},
   "outputs": [],
   "source": [
    "model = Sequential()\n",
    "model.add(LSTM(100,activation=\"relu\", input_shape=(n_input,n_features)))\n",
    "model.add(Dense(1))\n",
    "model.compile(optimizer=\"adam\", loss=\"mse\")"
   ]
  },
  {
   "cell_type": "code",
   "execution_count": 65,
   "id": "001f77cc",
   "metadata": {},
   "outputs": [
    {
     "name": "stdout",
     "output_type": "stream",
     "text": [
      "Epoch 1/80\n",
      "455/455 [==============================] - 2s 3ms/step - loss: 0.0479\n",
      "Epoch 2/80\n",
      "455/455 [==============================] - 1s 3ms/step - loss: 0.0394\n",
      "Epoch 3/80\n",
      "455/455 [==============================] - 1s 3ms/step - loss: 0.0377\n",
      "Epoch 4/80\n",
      "455/455 [==============================] - 1s 3ms/step - loss: 0.0373\n",
      "Epoch 5/80\n",
      "455/455 [==============================] - 1s 3ms/step - loss: 0.0360\n",
      "Epoch 6/80\n",
      "455/455 [==============================] - 1s 3ms/step - loss: 0.0357\n",
      "Epoch 7/80\n",
      "455/455 [==============================] - 2s 4ms/step - loss: 0.0369A: 0s - loss\n",
      "Epoch 8/80\n",
      "455/455 [==============================] - 1s 3ms/step - loss: 0.0354\n",
      "Epoch 9/80\n",
      "455/455 [==============================] - 1s 3ms/step - loss: 0.0346\n",
      "Epoch 10/80\n",
      "455/455 [==============================] - 1s 3ms/step - loss: 0.0351\n",
      "Epoch 11/80\n",
      "455/455 [==============================] - 1s 3ms/step - loss: 0.0346\n",
      "Epoch 12/80\n",
      "455/455 [==============================] - 1s 3ms/step - loss: 0.0335\n",
      "Epoch 13/80\n",
      "455/455 [==============================] - 1s 3ms/step - loss: 0.0339\n",
      "Epoch 14/80\n",
      "455/455 [==============================] - 1s 3ms/step - loss: 0.0332\n",
      "Epoch 15/80\n",
      "455/455 [==============================] - 1s 3ms/step - loss: 0.0335\n",
      "Epoch 16/80\n",
      "455/455 [==============================] - 1s 3ms/step - loss: 0.0323\n",
      "Epoch 17/80\n",
      "455/455 [==============================] - 1s 3ms/step - loss: 0.0327\n",
      "Epoch 18/80\n",
      "455/455 [==============================] - 1s 3ms/step - loss: 0.0317\n",
      "Epoch 19/80\n",
      "455/455 [==============================] - 1s 3ms/step - loss: 0.0319\n",
      "Epoch 20/80\n",
      "455/455 [==============================] - 1s 3ms/step - loss: 0.0315\n",
      "Epoch 21/80\n",
      "455/455 [==============================] - 1s 3ms/step - loss: 0.0308\n",
      "Epoch 22/80\n",
      "455/455 [==============================] - 1s 3ms/step - loss: 0.0312\n",
      "Epoch 23/80\n",
      "455/455 [==============================] - 1s 3ms/step - loss: 0.0304\n",
      "Epoch 24/80\n",
      "455/455 [==============================] - ETA: 0s - loss: 0.030 - 1s 3ms/step - loss: 0.0297\n",
      "Epoch 25/80\n",
      "455/455 [==============================] - 1s 3ms/step - loss: 0.0296\n",
      "Epoch 26/80\n",
      "455/455 [==============================] - 1s 3ms/step - loss: 0.0303\n",
      "Epoch 27/80\n",
      "455/455 [==============================] - 1s 3ms/step - loss: 0.0299\n",
      "Epoch 28/80\n",
      "455/455 [==============================] - 1s 3ms/step - loss: 0.0296\n",
      "Epoch 29/80\n",
      "455/455 [==============================] - 1s 3ms/step - loss: 0.0300\n",
      "Epoch 30/80\n",
      "455/455 [==============================] - 1s 3ms/step - loss: 0.0299\n",
      "Epoch 31/80\n",
      "455/455 [==============================] - 1s 3ms/step - loss: 0.0292\n",
      "Epoch 32/80\n",
      "455/455 [==============================] - 1s 3ms/step - loss: 0.0295\n",
      "Epoch 33/80\n",
      "455/455 [==============================] - 1s 3ms/step - loss: 0.0295\n",
      "Epoch 34/80\n",
      "455/455 [==============================] - 1s 3ms/step - loss: 0.0291\n",
      "Epoch 35/80\n",
      "455/455 [==============================] - 1s 3ms/step - loss: 0.0289\n",
      "Epoch 36/80\n",
      "455/455 [==============================] - 1s 3ms/step - loss: 0.0289\n",
      "Epoch 37/80\n",
      "455/455 [==============================] - 1s 3ms/step - loss: 0.0285\n",
      "Epoch 38/80\n",
      "455/455 [==============================] - 1s 3ms/step - loss: 0.0288\n",
      "Epoch 39/80\n",
      "455/455 [==============================] - 1s 3ms/step - loss: 0.0286\n",
      "Epoch 40/80\n",
      "455/455 [==============================] - 1s 3ms/step - loss: 0.0286\n",
      "Epoch 41/80\n",
      "455/455 [==============================] - 1s 3ms/step - loss: 0.0285\n",
      "Epoch 42/80\n",
      "455/455 [==============================] - 1s 3ms/step - loss: 0.0281\n",
      "Epoch 43/80\n",
      "455/455 [==============================] - 1s 3ms/step - loss: 0.0276\n",
      "Epoch 44/80\n",
      "455/455 [==============================] - 1s 3ms/step - loss: 0.0274\n",
      "Epoch 45/80\n",
      "455/455 [==============================] - 1s 3ms/step - loss: 0.0275\n",
      "Epoch 46/80\n",
      "455/455 [==============================] - 1s 3ms/step - loss: 0.0273\n",
      "Epoch 47/80\n",
      "455/455 [==============================] - 1s 3ms/step - loss: 0.0272\n",
      "Epoch 48/80\n",
      "455/455 [==============================] - 1s 3ms/step - loss: 0.0272\n",
      "Epoch 49/80\n",
      "455/455 [==============================] - 1s 3ms/step - loss: 0.0271\n",
      "Epoch 50/80\n",
      "455/455 [==============================] - 1s 3ms/step - loss: 0.0265\n",
      "Epoch 51/80\n",
      "455/455 [==============================] - 1s 3ms/step - loss: 0.0262\n",
      "Epoch 52/80\n",
      "455/455 [==============================] - 1s 3ms/step - loss: 0.0260\n",
      "Epoch 53/80\n",
      "455/455 [==============================] - 1s 3ms/step - loss: 0.0259\n",
      "Epoch 54/80\n",
      "455/455 [==============================] - 1s 3ms/step - loss: 0.0253\n",
      "Epoch 55/80\n",
      "455/455 [==============================] - 1s 3ms/step - loss: 0.0262\n",
      "Epoch 56/80\n",
      "455/455 [==============================] - 2s 3ms/step - loss: 0.0259\n",
      "Epoch 57/80\n",
      "455/455 [==============================] - 1s 3ms/step - loss: 0.0261\n",
      "Epoch 58/80\n",
      "455/455 [==============================] - 1s 3ms/step - loss: 0.0259\n",
      "Epoch 59/80\n",
      "455/455 [==============================] - 1s 3ms/step - loss: 0.0250\n",
      "Epoch 60/80\n",
      "455/455 [==============================] - 1s 3ms/step - loss: 0.0253\n",
      "Epoch 61/80\n",
      "455/455 [==============================] - 1s 3ms/step - loss: 0.0255\n",
      "Epoch 62/80\n",
      "455/455 [==============================] - 1s 3ms/step - loss: 0.0253\n",
      "Epoch 63/80\n",
      "455/455 [==============================] - 1s 3ms/step - loss: 0.0251\n",
      "Epoch 64/80\n",
      "455/455 [==============================] - 1s 3ms/step - loss: 0.0251\n",
      "Epoch 65/80\n",
      "455/455 [==============================] - 2s 4ms/step - loss: 0.0249\n",
      "Epoch 66/80\n",
      "455/455 [==============================] - 1s 3ms/step - loss: 0.0253A: 0s - loss: 0.025\n",
      "Epoch 67/80\n",
      "455/455 [==============================] - 1s 3ms/step - loss: 0.0247\n",
      "Epoch 68/80\n",
      "455/455 [==============================] - 1s 3ms/step - loss: 0.0247\n",
      "Epoch 69/80\n",
      "455/455 [==============================] - 1s 3ms/step - loss: 0.0244\n",
      "Epoch 70/80\n",
      "455/455 [==============================] - 1s 3ms/step - loss: 0.0246\n",
      "Epoch 71/80\n",
      "455/455 [==============================] - 2s 3ms/step - loss: 0.0241\n",
      "Epoch 72/80\n",
      "455/455 [==============================] - 2s 4ms/step - loss: 0.0243\n",
      "Epoch 73/80\n",
      "455/455 [==============================] - 1s 3ms/step - loss: 0.0244\n",
      "Epoch 74/80\n",
      "455/455 [==============================] - 1s 3ms/step - loss: 0.0243\n",
      "Epoch 75/80\n",
      "455/455 [==============================] - 1s 3ms/step - loss: 0.0241\n",
      "Epoch 76/80\n",
      "455/455 [==============================] - 1s 3ms/step - loss: 0.0241\n",
      "Epoch 77/80\n",
      "455/455 [==============================] - 1s 3ms/step - loss: 0.0249\n",
      "Epoch 78/80\n",
      "455/455 [==============================] - 1s 3ms/step - loss: 0.0238\n",
      "Epoch 79/80\n",
      "455/455 [==============================] - 1s 3ms/step - loss: 0.0239- \n",
      "Epoch 80/80\n",
      "455/455 [==============================] - 2s 3ms/step - loss: 0.0236\n"
     ]
    },
    {
     "data": {
      "text/plain": [
       "<keras.callbacks.History at 0x24633901760>"
      ]
     },
     "execution_count": 65,
     "metadata": {},
     "output_type": "execute_result"
    }
   ],
   "source": [
    "model.fit(generator, epochs=80)"
   ]
  },
  {
   "cell_type": "code",
   "execution_count": 66,
   "id": "d039ac69",
   "metadata": {},
   "outputs": [
    {
     "data": {
      "text/plain": [
       "[<matplotlib.lines.Line2D at 0x2463344b1f0>]"
      ]
     },
     "execution_count": 66,
     "metadata": {},
     "output_type": "execute_result"
    },
    {
     "data": {
      "image/png": "[encoded data removed]",
      "text/plain": [
       "<Figure size 1080x288 with 1 Axes>"
      ]
     },
     "metadata": {
      "needs_background": "light"
     },
     "output_type": "display_data"
    }
   ],
   "source": [
    "loss_per_epoch = model.history.history['loss']\n",
    "plt.plot(range(len(loss_per_epoch)),loss_per_epoch)"
   ]
  },
  {
   "cell_type": "code",
   "execution_count": 67,
   "id": "13551305",
   "metadata": {},
   "outputs": [
    {
     "data": {
      "text/plain": [
       "array([[0.5576631]], dtype=float32)"
      ]
     },
     "execution_count": 67,
     "metadata": {},
     "output_type": "execute_result"
    }
   ],
   "source": [
    "last_train_b = scaled_train[-n_input:]\n",
    "last_train_b = last_train_b.reshape((1,n_input,n_features))\n",
    "model.predict(last_train_b)"
   ]
  },
  {
   "cell_type": "code",
   "execution_count": 68,
   "id": "d69e07db",
   "metadata": {},
   "outputs": [
    {
     "data": {
      "text/plain": [
       "array([0.62230485])"
      ]
     },
     "execution_count": 68,
     "metadata": {},
     "output_type": "execute_result"
    }
   ],
   "source": [
    "scaled_test[0]"
   ]
  },
  {
   "cell_type": "code",
   "execution_count": 69,
   "id": "d7750df0",
   "metadata": {},
   "outputs": [],
   "source": [
    "predictions = []\n",
    "\n",
    "first_batch = scaled_train[-n_input:]\n",
    "current_batch = first_batch.reshape((1,n_input,n_features))\n",
    "\n",
    "for i in range(len(scaled_test)):\n",
    "  #get the prediction values for first batch\n",
    "  current_pred = model.predict(current_batch)[0]\n",
    "\n",
    "  #append the prediction into array\n",
    "  predictions.append(current_pred)\n",
    "\n",
    "  #remove the first value\n",
    "  curr_remv_val = current_batch[:,1:,:]\n",
    "\n",
    "  #update the batch\n",
    "  current_batch= np.append(curr_remv_val,[[current_pred]], axis=1)"
   ]
  },
  {
   "cell_type": "code",
   "execution_count": 70,
   "id": "819c9c18",
   "metadata": {},
   "outputs": [
    {
     "data": {
      "text/plain": [
       "[array([0.5576631], dtype=float32),\n",
       " array([0.5580398], dtype=float32),\n",
       " array([0.5353448], dtype=float32),\n",
       " array([0.38415855], dtype=float32),\n",
       " array([0.41681826], dtype=float32),\n",
       " array([0.5565287], dtype=float32),\n",
       " array([0.51387185], dtype=float32),\n",
       " array([0.54250115], dtype=float32),\n",
       " array([0.5639347], dtype=float32),\n",
       " array([0.50959086], dtype=float32),\n",
       " array([0.39046627], dtype=float32)]"
      ]
     },
     "execution_count": 70,
     "metadata": {},
     "output_type": "execute_result"
    }
   ],
   "source": [
    "predictions"
   ]
  },
  {
   "cell_type": "code",
   "execution_count": 71,
   "id": "a289761c",
   "metadata": {},
   "outputs": [
    {
     "data": {
      "text/html": [
       "<div>\n",
       "<style scoped>\n",
       "    .dataframe tbody tr th:only-of-type {\n",
       "        vertical-align: middle;\n",
       "    }\n",
       "\n",
       "    .dataframe tbody tr th {\n",
       "        vertical-align: top;\n",
       "    }\n",
       "\n",
       "    .dataframe thead th {\n",
       "        text-align: right;\n",
       "    }\n",
       "</style>\n",
       "<table border=\"1\" class=\"dataframe\">\n",
       "  <thead>\n",
       "    <tr style=\"text-align: right;\">\n",
       "      <th></th>\n",
       "      <th>Order_Quantity</th>\n",
       "    </tr>\n",
       "    <tr>\n",
       "      <th>Checkout_Date</th>\n",
       "      <th></th>\n",
       "    </tr>\n",
       "  </thead>\n",
       "  <tbody>\n",
       "    <tr>\n",
       "      <th>2020-05-01</th>\n",
       "      <td>7.315218</td>\n",
       "    </tr>\n",
       "    <tr>\n",
       "      <th>2020-05-04</th>\n",
       "      <td>6.519147</td>\n",
       "    </tr>\n",
       "    <tr>\n",
       "      <th>2020-05-05</th>\n",
       "      <td>6.777647</td>\n",
       "    </tr>\n",
       "    <tr>\n",
       "      <th>2020-05-06</th>\n",
       "      <td>6.820016</td>\n",
       "    </tr>\n",
       "    <tr>\n",
       "      <th>2020-05-07</th>\n",
       "      <td>6.716595</td>\n",
       "    </tr>\n",
       "  </tbody>\n",
       "</table>\n",
       "</div>"
      ],
      "text/plain": [
       "               Order_Quantity\n",
       "Checkout_Date                \n",
       "2020-05-01           7.315218\n",
       "2020-05-04           6.519147\n",
       "2020-05-05           6.777647\n",
       "2020-05-06           6.820016\n",
       "2020-05-07           6.716595"
      ]
     },
     "execution_count": 71,
     "metadata": {},
     "output_type": "execute_result"
    }
   ],
   "source": [
    "test.head()"
   ]
  },
  {
   "cell_type": "code",
   "execution_count": 72,
   "id": "02cef9f6",
   "metadata": {},
   "outputs": [],
   "source": [
    "true_predictions = scaler.inverse_transform(predictions)"
   ]
  },
  {
   "cell_type": "code",
   "execution_count": 78,
   "id": "52bc1d5f",
   "metadata": {},
   "outputs": [],
   "source": [
    "test['Predictions_LSTM'] = true_predictions"
   ]
  },
  {
   "cell_type": "code",
   "execution_count": 83,
   "id": "907eed8c",
   "metadata": {},
   "outputs": [
    {
     "data": {
      "image/png": "[encoded data removed]",
      "text/plain": [
       "<Figure size 1080x288 with 1 Axes>"
      ]
     },
     "metadata": {
      "needs_background": "light"
     },
     "output_type": "display_data"
    }
   ],
   "source": [
    "plt.plot(test['Order_Quantity'])\n",
    "plt.plot(test['Predictions_LSTM'], label=\"Prophet forecast\")\n",
    "plt.legend()\n",
    "plt.show()"
   ]
  },
  {
   "cell_type": "code",
   "execution_count": 84,
   "id": "4f7cc75b",
   "metadata": {},
   "outputs": [
    {
     "name": "stdout",
     "output_type": "stream",
     "text": [
      "1.646109417369499\n"
     ]
    }
   ],
   "source": [
    "from sklearn.metrics import mean_squared_error\n",
    "from math import sqrt\n",
    "rmse=sqrt(mean_squared_error(test['Predictions'],test['Order_Quantity']))\n",
    "print(rmse)"
   ]
  },
  {
   "cell_type": "code",
   "execution_count": 85,
   "id": "bbde4055",
   "metadata": {},
   "outputs": [],
   "source": [
    "predictions  = pd.DataFrame(test)"
   ]
  },
  {
   "cell_type": "code",
   "execution_count": 86,
   "id": "f7f3e3a5",
   "metadata": {},
   "outputs": [
    {
     "data": {
      "text/html": [
       "<div>\n",
       "<style scoped>\n",
       "    .dataframe tbody tr th:only-of-type {\n",
       "        vertical-align: middle;\n",
       "    }\n",
       "\n",
       "    .dataframe tbody tr th {\n",
       "        vertical-align: top;\n",
       "    }\n",
       "\n",
       "    .dataframe thead th {\n",
       "        text-align: right;\n",
       "    }\n",
       "</style>\n",
       "<table border=\"1\" class=\"dataframe\">\n",
       "  <thead>\n",
       "    <tr style=\"text-align: right;\">\n",
       "      <th></th>\n",
       "      <th>Order_Quantity</th>\n",
       "      <th>Predictions</th>\n",
       "      <th>Predictions_LSTM</th>\n",
       "    </tr>\n",
       "    <tr>\n",
       "      <th>Checkout_Date</th>\n",
       "      <th></th>\n",
       "      <th></th>\n",
       "      <th></th>\n",
       "    </tr>\n",
       "  </thead>\n",
       "  <tbody>\n",
       "    <tr>\n",
       "      <th>2020-05-01</th>\n",
       "      <td>7.315218</td>\n",
       "      <td>6.555352</td>\n",
       "      <td>6.555352</td>\n",
       "    </tr>\n",
       "    <tr>\n",
       "      <th>2020-05-04</th>\n",
       "      <td>6.519147</td>\n",
       "      <td>6.559780</td>\n",
       "      <td>6.559780</td>\n",
       "    </tr>\n",
       "    <tr>\n",
       "      <th>2020-05-05</th>\n",
       "      <td>6.777647</td>\n",
       "      <td>6.292999</td>\n",
       "      <td>6.292999</td>\n",
       "    </tr>\n",
       "    <tr>\n",
       "      <th>2020-05-06</th>\n",
       "      <td>6.820016</td>\n",
       "      <td>4.515799</td>\n",
       "      <td>4.515799</td>\n",
       "    </tr>\n",
       "    <tr>\n",
       "      <th>2020-05-07</th>\n",
       "      <td>6.716595</td>\n",
       "      <td>4.899715</td>\n",
       "      <td>4.899715</td>\n",
       "    </tr>\n",
       "    <tr>\n",
       "      <th>2020-05-08</th>\n",
       "      <td>6.480045</td>\n",
       "      <td>6.542017</td>\n",
       "      <td>6.542017</td>\n",
       "    </tr>\n",
       "    <tr>\n",
       "      <th>2020-05-11</th>\n",
       "      <td>7.918992</td>\n",
       "      <td>6.040584</td>\n",
       "      <td>6.040584</td>\n",
       "    </tr>\n",
       "    <tr>\n",
       "      <th>2020-05-12</th>\n",
       "      <td>8.121480</td>\n",
       "      <td>6.377123</td>\n",
       "      <td>6.377123</td>\n",
       "    </tr>\n",
       "    <tr>\n",
       "      <th>2020-05-13</th>\n",
       "      <td>7.307202</td>\n",
       "      <td>6.629075</td>\n",
       "      <td>6.629075</td>\n",
       "    </tr>\n",
       "    <tr>\n",
       "      <th>2020-05-14</th>\n",
       "      <td>8.799511</td>\n",
       "      <td>5.990261</td>\n",
       "      <td>5.990261</td>\n",
       "    </tr>\n",
       "    <tr>\n",
       "      <th>2020-05-15</th>\n",
       "      <td>6.925595</td>\n",
       "      <td>4.589947</td>\n",
       "      <td>4.589947</td>\n",
       "    </tr>\n",
       "  </tbody>\n",
       "</table>\n",
       "</div>"
      ],
      "text/plain": [
       "               Order_Quantity  Predictions  Predictions_LSTM\n",
       "Checkout_Date                                               \n",
       "2020-05-01           7.315218     6.555352          6.555352\n",
       "2020-05-04           6.519147     6.559780          6.559780\n",
       "2020-05-05           6.777647     6.292999          6.292999\n",
       "2020-05-06           6.820016     4.515799          4.515799\n",
       "2020-05-07           6.716595     4.899715          4.899715\n",
       "2020-05-08           6.480045     6.542017          6.542017\n",
       "2020-05-11           7.918992     6.040584          6.040584\n",
       "2020-05-12           8.121480     6.377123          6.377123\n",
       "2020-05-13           7.307202     6.629075          6.629075\n",
       "2020-05-14           8.799511     5.990261          5.990261\n",
       "2020-05-15           6.925595     4.589947          4.589947"
      ]
     },
     "execution_count": 86,
     "metadata": {},
     "output_type": "execute_result"
    }
   ],
   "source": [
    "predictions\n"
   ]
  },
  {
   "cell_type": "code",
   "execution_count": 90,
   "id": "4905f553",
   "metadata": {},
   "outputs": [],
   "source": [
    "predictions['Holt winter'] = pred_holt_winter\n",
    "predictions['Holt Linear'] = pred_holt\n",
    "predictions['SES'] = pred_ses\n",
    "predictions['SARIMA'] = pred_sarima\n",
    "predictions['ARIMA'] = pred_arima"
   ]
  },
  {
   "cell_type": "code",
   "execution_count": 94,
   "id": "3eb59f00",
   "metadata": {},
   "outputs": [
    {
     "data": {
      "text/plain": [
       "Checkout_Date\n",
       "2020-05-01    6.555352\n",
       "2020-05-04    6.559780\n",
       "2020-05-05    6.292999\n",
       "2020-05-06    4.515799\n",
       "2020-05-07    4.899715\n",
       "2020-05-08    6.542017\n",
       "2020-05-11    6.040584\n",
       "2020-05-12    6.377123\n",
       "2020-05-13    6.629075\n",
       "2020-05-14    5.990261\n",
       "2020-05-15    4.589947\n",
       "Name: Predictions, dtype: float64"
      ]
     },
     "execution_count": 94,
     "metadata": {},
     "output_type": "execute_result"
    }
   ],
   "source": [
    "predictions.pop(\"Predictions\")"
   ]
  },
  {
   "cell_type": "code",
   "execution_count": 95,
   "id": "7ca1e8f6",
   "metadata": {},
   "outputs": [
    {
     "data": {
      "text/html": [
       "<div>\n",
       "<style scoped>\n",
       "    .dataframe tbody tr th:only-of-type {\n",
       "        vertical-align: middle;\n",
       "    }\n",
       "\n",
       "    .dataframe tbody tr th {\n",
       "        vertical-align: top;\n",
       "    }\n",
       "\n",
       "    .dataframe thead th {\n",
       "        text-align: right;\n",
       "    }\n",
       "</style>\n",
       "<table border=\"1\" class=\"dataframe\">\n",
       "  <thead>\n",
       "    <tr style=\"text-align: right;\">\n",
       "      <th></th>\n",
       "      <th>Order_Quantity</th>\n",
       "      <th>Predictions_LSTM</th>\n",
       "      <th>Holt winter</th>\n",
       "      <th>Holt LInear</th>\n",
       "      <th>Holt Linear</th>\n",
       "      <th>SES</th>\n",
       "      <th>SARIMA</th>\n",
       "      <th>ARIMA</th>\n",
       "    </tr>\n",
       "    <tr>\n",
       "      <th>Checkout_Date</th>\n",
       "      <th></th>\n",
       "      <th></th>\n",
       "      <th></th>\n",
       "      <th></th>\n",
       "      <th></th>\n",
       "      <th></th>\n",
       "      <th></th>\n",
       "      <th></th>\n",
       "    </tr>\n",
       "  </thead>\n",
       "  <tbody>\n",
       "    <tr>\n",
       "      <th>2020-05-01</th>\n",
       "      <td>7.315218</td>\n",
       "      <td>6.555352</td>\n",
       "      <td>6.071127</td>\n",
       "      <td>6.060471</td>\n",
       "      <td>6.060471</td>\n",
       "      <td>6.224786</td>\n",
       "      <td>5.128177</td>\n",
       "      <td>4.979602</td>\n",
       "    </tr>\n",
       "    <tr>\n",
       "      <th>2020-05-04</th>\n",
       "      <td>6.519147</td>\n",
       "      <td>6.559780</td>\n",
       "      <td>6.164114</td>\n",
       "      <td>6.331979</td>\n",
       "      <td>6.331979</td>\n",
       "      <td>6.224786</td>\n",
       "      <td>5.704007</td>\n",
       "      <td>4.326722</td>\n",
       "    </tr>\n",
       "    <tr>\n",
       "      <th>2020-05-05</th>\n",
       "      <td>6.777647</td>\n",
       "      <td>6.292999</td>\n",
       "      <td>6.363067</td>\n",
       "      <td>6.603487</td>\n",
       "      <td>6.603487</td>\n",
       "      <td>6.224786</td>\n",
       "      <td>6.038896</td>\n",
       "      <td>5.281134</td>\n",
       "    </tr>\n",
       "    <tr>\n",
       "      <th>2020-05-06</th>\n",
       "      <td>6.820016</td>\n",
       "      <td>4.515799</td>\n",
       "      <td>5.937862</td>\n",
       "      <td>6.874996</td>\n",
       "      <td>6.874996</td>\n",
       "      <td>6.224786</td>\n",
       "      <td>5.922167</td>\n",
       "      <td>6.059067</td>\n",
       "    </tr>\n",
       "    <tr>\n",
       "      <th>2020-05-07</th>\n",
       "      <td>6.716595</td>\n",
       "      <td>4.899715</td>\n",
       "      <td>5.588505</td>\n",
       "      <td>7.146504</td>\n",
       "      <td>7.146504</td>\n",
       "      <td>6.224786</td>\n",
       "      <td>5.563491</td>\n",
       "      <td>6.647258</td>\n",
       "    </tr>\n",
       "    <tr>\n",
       "      <th>2020-05-08</th>\n",
       "      <td>6.480045</td>\n",
       "      <td>6.542017</td>\n",
       "      <td>5.467288</td>\n",
       "      <td>7.418012</td>\n",
       "      <td>7.418012</td>\n",
       "      <td>6.224786</td>\n",
       "      <td>5.498519</td>\n",
       "      <td>6.793672</td>\n",
       "    </tr>\n",
       "    <tr>\n",
       "      <th>2020-05-11</th>\n",
       "      <td>7.918992</td>\n",
       "      <td>6.040584</td>\n",
       "      <td>5.988606</td>\n",
       "      <td>7.689520</td>\n",
       "      <td>7.689520</td>\n",
       "      <td>6.224786</td>\n",
       "      <td>4.995570</td>\n",
       "      <td>6.100505</td>\n",
       "    </tr>\n",
       "    <tr>\n",
       "      <th>2020-05-12</th>\n",
       "      <td>8.121480</td>\n",
       "      <td>6.377123</td>\n",
       "      <td>5.892709</td>\n",
       "      <td>7.961028</td>\n",
       "      <td>7.961028</td>\n",
       "      <td>6.224786</td>\n",
       "      <td>5.923701</td>\n",
       "      <td>5.307380</td>\n",
       "    </tr>\n",
       "    <tr>\n",
       "      <th>2020-05-13</th>\n",
       "      <td>7.307202</td>\n",
       "      <td>6.629075</td>\n",
       "      <td>6.061132</td>\n",
       "      <td>8.232536</td>\n",
       "      <td>8.232536</td>\n",
       "      <td>6.224786</td>\n",
       "      <td>6.145222</td>\n",
       "      <td>5.283868</td>\n",
       "    </tr>\n",
       "    <tr>\n",
       "      <th>2020-05-14</th>\n",
       "      <td>8.799511</td>\n",
       "      <td>5.990261</td>\n",
       "      <td>6.154119</td>\n",
       "      <td>8.504045</td>\n",
       "      <td>8.504045</td>\n",
       "      <td>6.224786</td>\n",
       "      <td>6.395692</td>\n",
       "      <td>5.935886</td>\n",
       "    </tr>\n",
       "    <tr>\n",
       "      <th>2020-05-15</th>\n",
       "      <td>6.925595</td>\n",
       "      <td>4.589947</td>\n",
       "      <td>6.353073</td>\n",
       "      <td>8.775553</td>\n",
       "      <td>8.775553</td>\n",
       "      <td>6.224786</td>\n",
       "      <td>5.385167</td>\n",
       "      <td>6.618609</td>\n",
       "    </tr>\n",
       "  </tbody>\n",
       "</table>\n",
       "</div>"
      ],
      "text/plain": [
       "               Order_Quantity  Predictions_LSTM  Holt winter  Holt LInear  \\\n",
       "Checkout_Date                                                               \n",
       "2020-05-01           7.315218          6.555352     6.071127     6.060471   \n",
       "2020-05-04           6.519147          6.559780     6.164114     6.331979   \n",
       "2020-05-05           6.777647          6.292999     6.363067     6.603487   \n",
       "2020-05-06           6.820016          4.515799     5.937862     6.874996   \n",
       "2020-05-07           6.716595          4.899715     5.588505     7.146504   \n",
       "2020-05-08           6.480045          6.542017     5.467288     7.418012   \n",
       "2020-05-11           7.918992          6.040584     5.988606     7.689520   \n",
       "2020-05-12           8.121480          6.377123     5.892709     7.961028   \n",
       "2020-05-13           7.307202          6.629075     6.061132     8.232536   \n",
       "2020-05-14           8.799511          5.990261     6.154119     8.504045   \n",
       "2020-05-15           6.925595          4.589947     6.353073     8.775553   \n",
       "\n",
       "               Holt Linear       SES    SARIMA     ARIMA  \n",
       "Checkout_Date                                             \n",
       "2020-05-01        6.060471  6.224786  5.128177  4.979602  \n",
       "2020-05-04        6.331979  6.224786  5.704007  4.326722  \n",
       "2020-05-05        6.603487  6.224786  6.038896  5.281134  \n",
       "2020-05-06        6.874996  6.224786  5.922167  6.059067  \n",
       "2020-05-07        7.146504  6.224786  5.563491  6.647258  \n",
       "2020-05-08        7.418012  6.224786  5.498519  6.793672  \n",
       "2020-05-11        7.689520  6.224786  4.995570  6.100505  \n",
       "2020-05-12        7.961028  6.224786  5.923701  5.307380  \n",
       "2020-05-13        8.232536  6.224786  6.145222  5.283868  \n",
       "2020-05-14        8.504045  6.224786  6.395692  5.935886  \n",
       "2020-05-15        8.775553  6.224786  5.385167  6.618609  "
      ]
     },
     "execution_count": 95,
     "metadata": {},
     "output_type": "execute_result"
    }
   ],
   "source": [
    "predictions"
   ]
  },
  {
   "cell_type": "code",
   "execution_count": 100,
   "id": "2afc6e8f",
   "metadata": {},
   "outputs": [
    {
     "name": "stdout",
     "output_type": "stream",
     "text": [
      "    Order_Quantity  Predictions_LSTM  Holt winter  Holt LInear  Holt Linear  \\\n",
      "0         7.315218          6.555352     6.071127     6.060471     6.060471   \n",
      "1         6.519147          6.559780     6.164114     6.331979     6.331979   \n",
      "2         6.777647          6.292999     6.363067     6.603487     6.603487   \n",
      "3         6.820016          4.515799     5.937862     6.874996     6.874996   \n",
      "4         6.716595          4.899715     5.588505     7.146504     7.146504   \n",
      "5         6.480045          6.542017     5.467288     7.418012     7.418012   \n",
      "6         7.918992          6.040584     5.988606     7.689520     7.689520   \n",
      "7         8.121480          6.377123     5.892709     7.961028     7.961028   \n",
      "8         7.307202          6.629075     6.061132     8.232536     8.232536   \n",
      "9         8.799511          5.990261     6.154119     8.504045     8.504045   \n",
      "10        6.925595          4.589947     6.353073     8.775553     8.775553   \n",
      "\n",
      "         SES    SARIMA     ARIMA  \n",
      "0   6.224786  5.128177  4.979602  \n",
      "1   6.224786  5.704007  4.326722  \n",
      "2   6.224786  6.038896  5.281134  \n",
      "3   6.224786  5.922167  6.059067  \n",
      "4   6.224786  5.563491  6.647258  \n",
      "5   6.224786  5.498519  6.793672  \n",
      "6   6.224786  4.995570  6.100505  \n",
      "7   6.224786  5.923701  5.307380  \n",
      "8   6.224786  6.145222  5.283868  \n",
      "9   6.224786  6.395692  5.935886  \n",
      "10  6.224786  5.385167  6.618609  \n"
     ]
    }
   ],
   "source": [
    "predictions.to_csv('prediction.csv', index=False,header=True)\n",
    "new_df = pd.read_csv('prediction.csv')\n",
    "print(new_df)"
   ]
  },
  {
   "cell_type": "code",
   "execution_count": null,
   "id": "3326b673",
   "metadata": {},
   "outputs": [],
   "source": []
  }
 ],
 "metadata": {
  "kernelspec": {
   "display_name": "Python 3",
   "language": "python",
   "name": "python3"
  },
  "language_info": {
   "codemirror_mode": {
    "name": "ipython",
    "version": 3
   },
   "file_extension": ".py",
   "mimetype": "text/x-python",
   "name": "python",
   "nbconvert_exporter": "python",
   "pygments_lexer": "ipython3",
   "version": "3.8.8"
  }
 },
 "nbformat": 4,
 "nbformat_minor": 5
}
